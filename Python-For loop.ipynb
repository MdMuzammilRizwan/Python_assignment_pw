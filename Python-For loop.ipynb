{
 "cells": [
  {
   "cell_type": "markdown",
   "id": "2a0eb68b",
   "metadata": {},
   "source": [
    "# Basic Level:"
   ]
  },
  {
   "cell_type": "markdown",
   "id": "767f1455",
   "metadata": {},
   "source": [
    "# 1. Write a Python program to print the numbers from 1 to 10 using a `for` loop."
   ]
  },
  {
   "cell_type": "code",
   "execution_count": 1,
   "id": "d6585a6d",
   "metadata": {},
   "outputs": [
    {
     "name": "stdout",
     "output_type": "stream",
     "text": [
      "1\n",
      "2\n",
      "3\n",
      "4\n",
      "5\n",
      "6\n",
      "7\n",
      "8\n",
      "9\n",
      "10\n"
     ]
    }
   ],
   "source": [
    "for i in range(1,11):\n",
    "    print(i)"
   ]
  },
  {
   "cell_type": "markdown",
   "id": "ea60aea5",
   "metadata": {},
   "source": [
    "# 2. Create a program that calculates the sum of all numbers in a list using a `for` loop."
   ]
  },
  {
   "cell_type": "code",
   "execution_count": 2,
   "id": "e3905d05",
   "metadata": {},
   "outputs": [],
   "source": [
    "def sum_of_no(a):\n",
    "    sum = 0\n",
    "    for i in a:\n",
    "        sum+=i\n",
    "    return sum"
   ]
  },
  {
   "cell_type": "code",
   "execution_count": 3,
   "id": "d193e7cc",
   "metadata": {},
   "outputs": [
    {
     "data": {
      "text/plain": [
       "15"
      ]
     },
     "execution_count": 3,
     "metadata": {},
     "output_type": "execute_result"
    }
   ],
   "source": [
    "sum_of_no([1,2,3,4,5])"
   ]
  },
  {
   "cell_type": "markdown",
   "id": "833d28c3",
   "metadata": {},
   "source": [
    "# 3. Write a program to print the characters of a string in reverse order using a `for` loop."
   ]
  },
  {
   "cell_type": "code",
   "execution_count": 4,
   "id": "d856350f",
   "metadata": {},
   "outputs": [],
   "source": [
    "def rev(s):\n",
    "    r = ''\n",
    "    for i in s[::-1]:\n",
    "        r+=i\n",
    "    return r    \n",
    "    "
   ]
  },
  {
   "cell_type": "code",
   "execution_count": 5,
   "id": "679c5082",
   "metadata": {},
   "outputs": [
    {
     "data": {
      "text/plain": [
       "'fittA'"
      ]
     },
     "execution_count": 5,
     "metadata": {},
     "output_type": "execute_result"
    }
   ],
   "source": [
    "rev('Attif')"
   ]
  },
  {
   "cell_type": "markdown",
   "id": "c10a37c1",
   "metadata": {},
   "source": [
    "# 4. Develop a program that finds the factorial of a given number using a `for` loop."
   ]
  },
  {
   "cell_type": "code",
   "execution_count": 6,
   "id": "d23bdcf3",
   "metadata": {},
   "outputs": [],
   "source": [
    "def fact(n):\n",
    "    if n<=1:\n",
    "        return 1\n",
    "    else:\n",
    "        a = 1\n",
    "        for i in range(1,n+1):\n",
    "            a = i*a\n",
    "        return a"
   ]
  },
  {
   "cell_type": "code",
   "execution_count": 7,
   "id": "b110b28e",
   "metadata": {},
   "outputs": [
    {
     "data": {
      "text/plain": [
       "120"
      ]
     },
     "execution_count": 7,
     "metadata": {},
     "output_type": "execute_result"
    }
   ],
   "source": [
    "fact(5)"
   ]
  },
  {
   "cell_type": "markdown",
   "id": "8441007e",
   "metadata": {},
   "source": [
    "# 5. Create a program to print the multiplication table of a given number using a `for` loop."
   ]
  },
  {
   "cell_type": "code",
   "execution_count": 8,
   "id": "bd0015e8",
   "metadata": {},
   "outputs": [],
   "source": [
    "def table(n):\n",
    "    for i in range(1,11):\n",
    "        print(f'{n} x {i} = {n*i}')"
   ]
  },
  {
   "cell_type": "code",
   "execution_count": 9,
   "id": "350acb18",
   "metadata": {},
   "outputs": [
    {
     "name": "stdout",
     "output_type": "stream",
     "text": [
      "7 x 1 = 7\n",
      "7 x 2 = 14\n",
      "7 x 3 = 21\n",
      "7 x 4 = 28\n",
      "7 x 5 = 35\n",
      "7 x 6 = 42\n",
      "7 x 7 = 49\n",
      "7 x 8 = 56\n",
      "7 x 9 = 63\n",
      "7 x 10 = 70\n"
     ]
    }
   ],
   "source": [
    "table(7)"
   ]
  },
  {
   "cell_type": "markdown",
   "id": "6b58016b",
   "metadata": {},
   "source": [
    "# 6. Write a program that counts the number of even and odd numbers in a list using a `for` loop."
   ]
  },
  {
   "cell_type": "code",
   "execution_count": 10,
   "id": "bcbea348",
   "metadata": {},
   "outputs": [],
   "source": [
    "def counts(l):\n",
    "    even = 0\n",
    "    odd = 0\n",
    "    for i in l:\n",
    "        if i%2 == 0:\n",
    "            even+=1\n",
    "        else:\n",
    "            odd+=1\n",
    "    return even,odd"
   ]
  },
  {
   "cell_type": "code",
   "execution_count": 11,
   "id": "8a65554f",
   "metadata": {},
   "outputs": [
    {
     "data": {
      "text/plain": [
       "(5, 5)"
      ]
     },
     "execution_count": 11,
     "metadata": {},
     "output_type": "execute_result"
    }
   ],
   "source": [
    "counts([1,2,3,4,5,6,7,8,9,10])"
   ]
  },
  {
   "cell_type": "markdown",
   "id": "a3dec4cc",
   "metadata": {},
   "source": [
    "# 7. Develop a program that prints the squares of numbers from 1 to 5 using a `for` loop."
   ]
  },
  {
   "cell_type": "code",
   "execution_count": 12,
   "id": "5f67974d",
   "metadata": {},
   "outputs": [
    {
     "name": "stdout",
     "output_type": "stream",
     "text": [
      "1\n",
      "4\n",
      "9\n",
      "16\n",
      "25\n"
     ]
    }
   ],
   "source": [
    "for i in range(1,6):\n",
    "    print(i**2)"
   ]
  },
  {
   "cell_type": "markdown",
   "id": "8f5f4bba",
   "metadata": {},
   "source": [
    "# 8. Create a program to find the length of a string without using the `len()` function."
   ]
  },
  {
   "cell_type": "code",
   "execution_count": 13,
   "id": "100c4ac4",
   "metadata": {},
   "outputs": [],
   "source": [
    "def length(s):\n",
    "    l = 0\n",
    "    for i in s:\n",
    "        l+=1\n",
    "    return l"
   ]
  },
  {
   "cell_type": "code",
   "execution_count": 14,
   "id": "d8f0c74b",
   "metadata": {},
   "outputs": [
    {
     "data": {
      "text/plain": [
       "5"
      ]
     },
     "execution_count": 14,
     "metadata": {},
     "output_type": "execute_result"
    }
   ],
   "source": [
    "length('Attif')"
   ]
  },
  {
   "cell_type": "markdown",
   "id": "e59cdb4a",
   "metadata": {},
   "source": [
    "# 9. Write a program that calculates the average of a list of numbers using a `for` loop."
   ]
  },
  {
   "cell_type": "code",
   "execution_count": 15,
   "id": "6b0b753a",
   "metadata": {},
   "outputs": [
    {
     "name": "stdout",
     "output_type": "stream",
     "text": [
      "5.5\n"
     ]
    }
   ],
   "source": [
    "l = [1,2,3,4,5,6,7,8,9,10]\n",
    "\n",
    "sum = 0\n",
    "for i in l:\n",
    "    sum+=i\n",
    "average = sum/len(l)\n",
    "print(average)\n",
    "    "
   ]
  },
  {
   "cell_type": "markdown",
   "id": "0ae834e7",
   "metadata": {},
   "source": [
    "# 10. Develop a program that prints the first `n` Fibonacci numbers using a `for` loop."
   ]
  },
  {
   "cell_type": "code",
   "execution_count": 16,
   "id": "109ec34f",
   "metadata": {},
   "outputs": [],
   "source": [
    "def fib(n):\n",
    "    l = [0,1]\n",
    "    first = 0\n",
    "    second = 1\n",
    "    for i in range(2,n):\n",
    "        third = first + second\n",
    "        first = second\n",
    "        second = third\n",
    "        l+=[third]\n",
    "    return l"
   ]
  },
  {
   "cell_type": "code",
   "execution_count": 17,
   "id": "7d800020",
   "metadata": {},
   "outputs": [
    {
     "data": {
      "text/plain": [
       "[0, 1, 1, 2, 3, 5, 8, 13, 21, 34]"
      ]
     },
     "execution_count": 17,
     "metadata": {},
     "output_type": "execute_result"
    }
   ],
   "source": [
    "fib(10)"
   ]
  },
  {
   "cell_type": "markdown",
   "id": "2756358f",
   "metadata": {},
   "source": [
    "# Intermediate Level:"
   ]
  },
  {
   "cell_type": "markdown",
   "id": "22022aa3",
   "metadata": {},
   "source": [
    "# 11. Write a program to check if a given list contains any duplicates using a `for` loop."
   ]
  },
  {
   "cell_type": "code",
   "execution_count": 45,
   "id": "e36f9602",
   "metadata": {},
   "outputs": [],
   "source": [
    "def dup_check(l):\n",
    "   \n",
    "    u = set()\n",
    "    for i in l:\n",
    "        if i in u:\n",
    "            return 'list contains duplicates'\n",
    "            \n",
    "        else:\n",
    "            u.add(i)\n",
    "    return 'list does not contain duplicates'\n",
    "            \n",
    "    \n",
    "    "
   ]
  },
  {
   "cell_type": "code",
   "execution_count": 46,
   "id": "5ab9f99e",
   "metadata": {},
   "outputs": [
    {
     "data": {
      "text/plain": [
       "'list contains duplicates'"
      ]
     },
     "execution_count": 46,
     "metadata": {},
     "output_type": "execute_result"
    }
   ],
   "source": [
    "dup_check([1,2,1,3,4,3,4,5])"
   ]
  },
  {
   "cell_type": "code",
   "execution_count": 47,
   "id": "43ab550f",
   "metadata": {},
   "outputs": [
    {
     "data": {
      "text/plain": [
       "'list does not contain duplicates'"
      ]
     },
     "execution_count": 47,
     "metadata": {},
     "output_type": "execute_result"
    }
   ],
   "source": [
    "dup_check([1,2,3,4,5])"
   ]
  },
  {
   "cell_type": "code",
   "execution_count": 48,
   "id": "75f8a6e3",
   "metadata": {},
   "outputs": [
    {
     "data": {
      "text/plain": [
       "'list contains duplicates'"
      ]
     },
     "execution_count": 48,
     "metadata": {},
     "output_type": "execute_result"
    }
   ],
   "source": [
    "dup_check([1,2,3,23,23,1,1,4])"
   ]
  },
  {
   "cell_type": "markdown",
   "id": "e1a63edc",
   "metadata": {},
   "source": [
    "# 12. Create a program that prints the prime numbers in a given range using a `for` loop."
   ]
  },
  {
   "cell_type": "code",
   "execution_count": 5,
   "id": "d3819d18",
   "metadata": {},
   "outputs": [],
   "source": [
    "def prime(n):\n",
    "    if n < 2:\n",
    "        return False\n",
    "    for i in range(2, int(n**0.5) + 1):\n",
    "        if n % i == 0:\n",
    "            return False\n",
    "    return True\n"
   ]
  },
  {
   "cell_type": "code",
   "execution_count": 6,
   "id": "e747c6e0",
   "metadata": {},
   "outputs": [],
   "source": [
    "prime = [i for i in range(2,100) if prime(i)]"
   ]
  },
  {
   "cell_type": "code",
   "execution_count": 7,
   "id": "2dcfaa30",
   "metadata": {},
   "outputs": [
    {
     "data": {
      "text/plain": [
       "[2,\n",
       " 3,\n",
       " 5,\n",
       " 7,\n",
       " 11,\n",
       " 13,\n",
       " 17,\n",
       " 19,\n",
       " 23,\n",
       " 29,\n",
       " 31,\n",
       " 37,\n",
       " 41,\n",
       " 43,\n",
       " 47,\n",
       " 53,\n",
       " 59,\n",
       " 61,\n",
       " 67,\n",
       " 71,\n",
       " 73,\n",
       " 79,\n",
       " 83,\n",
       " 89,\n",
       " 97]"
      ]
     },
     "execution_count": 7,
     "metadata": {},
     "output_type": "execute_result"
    }
   ],
   "source": [
    "prime"
   ]
  },
  {
   "cell_type": "markdown",
   "id": "8bd4666a",
   "metadata": {},
   "source": [
    "# 13. Develop a program that counts the number of vowels in a string using a `for` loop."
   ]
  },
  {
   "cell_type": "code",
   "execution_count": 3,
   "id": "95e3ac57",
   "metadata": {},
   "outputs": [],
   "source": [
    "def count_vowels(s):\n",
    "    count = 0\n",
    "    for i in s:\n",
    "        if i.lower() in 'aeiou':\n",
    "            count +=1\n",
    "    return count\n",
    "    \n",
    "    \n",
    "    "
   ]
  },
  {
   "cell_type": "code",
   "execution_count": 4,
   "id": "d7c6ebc1",
   "metadata": {},
   "outputs": [
    {
     "data": {
      "text/plain": [
       "3"
      ]
     },
     "execution_count": 4,
     "metadata": {},
     "output_type": "execute_result"
    }
   ],
   "source": [
    "count_vowels(\"attif khan\")"
   ]
  },
  {
   "cell_type": "markdown",
   "id": "4a49381d",
   "metadata": {},
   "source": [
    "# 14. Write a program to find the maximum element in a 2D list using a nested `for` loop."
   ]
  },
  {
   "cell_type": "code",
   "execution_count": 24,
   "id": "da89b290",
   "metadata": {},
   "outputs": [],
   "source": [
    "def maxi(li):\n",
    "    max_ele = li[0][0]\n",
    "    for i in li:\n",
    "        for j in i:\n",
    "            if j > max_ele:\n",
    "                max_ele = j\n",
    "    return max_ele"
   ]
  },
  {
   "cell_type": "code",
   "execution_count": 26,
   "id": "4bf862f3",
   "metadata": {},
   "outputs": [
    {
     "name": "stdout",
     "output_type": "stream",
     "text": [
      "The maximum element in the 2-D list is: 9\n"
     ]
    }
   ],
   "source": [
    "li = [\n",
    "    [1,2,3],\n",
    "    [4,5,6],\n",
    "    [7,8,9]\n",
    "]\n",
    "\n",
    "print(\"The maximum element in the 2-D list is:\",maxi(li))"
   ]
  },
  {
   "cell_type": "markdown",
   "id": "f28f1f56",
   "metadata": {},
   "source": [
    "# 15. Create a program that removes all occurrences of a specific element from a list using a `for` loop."
   ]
  },
  {
   "cell_type": "code",
   "execution_count": 29,
   "id": "af64f5b2",
   "metadata": {},
   "outputs": [],
   "source": [
    "def rem_ele(l):\n",
    "    ele = int(input(\"Enter the element of which you want to remove all the occurence of\\n\"))\n",
    "    for i in l:\n",
    "        if i == ele:\n",
    "            l.remove(i)\n",
    "    return l\n",
    "            "
   ]
  },
  {
   "cell_type": "code",
   "execution_count": 30,
   "id": "44cae9b4",
   "metadata": {},
   "outputs": [
    {
     "name": "stdout",
     "output_type": "stream",
     "text": [
      "Enter the element of which you want to remove all the occurence of\n",
      "21\n"
     ]
    },
    {
     "data": {
      "text/plain": [
       "[1, 23, 12, 23]"
      ]
     },
     "execution_count": 30,
     "metadata": {},
     "output_type": "execute_result"
    }
   ],
   "source": [
    "l = [1,21,23,12,21,23]\n",
    "\n",
    "rem_ele(l)"
   ]
  },
  {
   "cell_type": "code",
   "execution_count": 31,
   "id": "5f50f0ea",
   "metadata": {},
   "outputs": [
    {
     "name": "stdout",
     "output_type": "stream",
     "text": [
      "Enter the element of which you want to remove all the occurence of\n",
      "23\n"
     ]
    },
    {
     "data": {
      "text/plain": [
       "[1, 12]"
      ]
     },
     "execution_count": 31,
     "metadata": {},
     "output_type": "execute_result"
    }
   ],
   "source": [
    "rem_ele(l)"
   ]
  },
  {
   "cell_type": "markdown",
   "id": "fcbeef0a",
   "metadata": {},
   "source": [
    "# 16. Develop a program that generates a multiplication table for numbers from 1 to 5 using a nested `for` loop."
   ]
  },
  {
   "cell_type": "code",
   "execution_count": 34,
   "id": "1299131a",
   "metadata": {},
   "outputs": [
    {
     "name": "stdout",
     "output_type": "stream",
     "text": [
      "1 x 1 = 1\n",
      "1 x 2 = 2\n",
      "1 x 3 = 3\n",
      "1 x 4 = 4\n",
      "1 x 5 = 5\n",
      "1 x 6 = 6\n",
      "1 x 7 = 7\n",
      "1 x 8 = 8\n",
      "1 x 9 = 9\n",
      "1 x 10 = 10\n",
      "\n",
      "2 x 1 = 2\n",
      "2 x 2 = 4\n",
      "2 x 3 = 6\n",
      "2 x 4 = 8\n",
      "2 x 5 = 10\n",
      "2 x 6 = 12\n",
      "2 x 7 = 14\n",
      "2 x 8 = 16\n",
      "2 x 9 = 18\n",
      "2 x 10 = 20\n",
      "\n",
      "3 x 1 = 3\n",
      "3 x 2 = 6\n",
      "3 x 3 = 9\n",
      "3 x 4 = 12\n",
      "3 x 5 = 15\n",
      "3 x 6 = 18\n",
      "3 x 7 = 21\n",
      "3 x 8 = 24\n",
      "3 x 9 = 27\n",
      "3 x 10 = 30\n",
      "\n",
      "4 x 1 = 4\n",
      "4 x 2 = 8\n",
      "4 x 3 = 12\n",
      "4 x 4 = 16\n",
      "4 x 5 = 20\n",
      "4 x 6 = 24\n",
      "4 x 7 = 28\n",
      "4 x 8 = 32\n",
      "4 x 9 = 36\n",
      "4 x 10 = 40\n",
      "\n",
      "5 x 1 = 5\n",
      "5 x 2 = 10\n",
      "5 x 3 = 15\n",
      "5 x 4 = 20\n",
      "5 x 5 = 25\n",
      "5 x 6 = 30\n",
      "5 x 7 = 35\n",
      "5 x 8 = 40\n",
      "5 x 9 = 45\n",
      "5 x 10 = 50\n",
      "\n"
     ]
    }
   ],
   "source": [
    "for i in range(1,6):\n",
    "    for j in range(1,11):\n",
    "        print(i ,'x',j, '=', i*j)\n",
    "    print()"
   ]
  },
  {
   "cell_type": "markdown",
   "id": "52f8d167",
   "metadata": {},
   "source": [
    "# 17. Write a program that converts a list of Fahrenheit temperatures to Celsius using a `for` loop."
   ]
  },
  {
   "cell_type": "code",
   "execution_count": 41,
   "id": "9b5dc1ab",
   "metadata": {},
   "outputs": [],
   "source": [
    "def converter(l):\n",
    "    c = []\n",
    "    for i in l:\n",
    "        celsius = (i - 32) * 5/9\n",
    "        c.append(celsius)\n",
    "        \n",
    "    return c"
   ]
  },
  {
   "cell_type": "code",
   "execution_count": 43,
   "id": "b4a93eb6",
   "metadata": {},
   "outputs": [
    {
     "name": "stdout",
     "output_type": "stream",
     "text": [
      "The temperatures in celsius are:  [7.222222222222222, 1.1111111111111112, -5.0, 13.333333333333334, 0.0]\n"
     ]
    }
   ],
   "source": [
    "l = [45,34,23,56,32]\n",
    "print(\"The temperatures in celsius are: \",converter(l))"
   ]
  },
  {
   "cell_type": "markdown",
   "id": "c89d06a0",
   "metadata": {},
   "source": [
    "# 18. Create a program to print the common elements from two lists using a `for` loop."
   ]
  },
  {
   "cell_type": "code",
   "execution_count": 47,
   "id": "af94e69f",
   "metadata": {},
   "outputs": [
    {
     "name": "stdout",
     "output_type": "stream",
     "text": [
      "23\n",
      "34\n"
     ]
    }
   ],
   "source": [
    "l1 = [12,23,4,5,34]\n",
    "l2 = [45,34,3,23,1]\n",
    "\n",
    "for i in l1:\n",
    "    for j in l2:\n",
    "        if i == j:\n",
    "            print(i)"
   ]
  },
  {
   "cell_type": "markdown",
   "id": "37b98630",
   "metadata": {},
   "source": [
    "# 19. Develop a program that prints the pattern of right-angled triangles using a `for` loop. Use ‘*’ to draw the pattern"
   ]
  },
  {
   "cell_type": "code",
   "execution_count": 48,
   "id": "c292ce19",
   "metadata": {},
   "outputs": [],
   "source": [
    "def right_triangle(rows):\n",
    "    for i in range(1,rows + 1):\n",
    "        for j in range(i):\n",
    "            print('*', end=' ')\n",
    "        print()"
   ]
  },
  {
   "cell_type": "code",
   "execution_count": 49,
   "id": "8f1e35c0",
   "metadata": {},
   "outputs": [
    {
     "name": "stdout",
     "output_type": "stream",
     "text": [
      "Enter the number of rows5\n",
      "* \n",
      "* * \n",
      "* * * \n",
      "* * * * \n",
      "* * * * * \n"
     ]
    }
   ],
   "source": [
    "right_triangle(int(input(\"Enter the number of rows\")))"
   ]
  },
  {
   "cell_type": "markdown",
   "id": "d7156077",
   "metadata": {},
   "source": [
    "# 20. Write a program to find the greatest common divisor (GCD) of two numbers using a `for` loop."
   ]
  },
  {
   "cell_type": "code",
   "execution_count": 50,
   "id": "717d24c1",
   "metadata": {},
   "outputs": [],
   "source": [
    "def gcd(a,b):\n",
    "    small = min(a,b)\n",
    "    gcd = 1\n",
    "    for i in range(1,small + 1):\n",
    "        if a % i == 0 and b % i == 0:\n",
    "            gcd = i\n",
    "            \n",
    "    return gcd\n",
    "            "
   ]
  },
  {
   "cell_type": "code",
   "execution_count": 51,
   "id": "fd64c5fd",
   "metadata": {},
   "outputs": [
    {
     "data": {
      "text/plain": [
       "2"
      ]
     },
     "execution_count": 51,
     "metadata": {},
     "output_type": "execute_result"
    }
   ],
   "source": [
    "gcd(10,12)"
   ]
  },
  {
   "cell_type": "code",
   "execution_count": 52,
   "id": "4ecf65ab",
   "metadata": {},
   "outputs": [
    {
     "data": {
      "text/plain": [
       "7"
      ]
     },
     "execution_count": 52,
     "metadata": {},
     "output_type": "execute_result"
    }
   ],
   "source": [
    "gcd(14,21)"
   ]
  },
  {
   "cell_type": "markdown",
   "id": "f7b1a3dc",
   "metadata": {},
   "source": [
    "# Advanced Level:"
   ]
  },
  {
   "cell_type": "markdown",
   "id": "2232cada",
   "metadata": {},
   "source": [
    "# 21. Create a program that calculates the sum of the digits of numbers in a list using a list comprehension."
   ]
  },
  {
   "cell_type": "code",
   "execution_count": 5,
   "id": "0dd18bde",
   "metadata": {},
   "outputs": [
    {
     "name": "stdout",
     "output_type": "stream",
     "text": [
      "45\n"
     ]
    }
   ],
   "source": [
    "l = [1,2,3,4,5,6,7,8,9]\n",
    "s = sum([i for i in l])\n",
    "print(s)"
   ]
  },
  {
   "cell_type": "markdown",
   "id": "8251cfb7-7355-4a58-95f2-e6e6c2837deb",
   "metadata": {},
   "source": [
    "# 22. Write a program to find the prime factors of a given number using a `for` loop and list comprehension."
   ]
  },
  {
   "cell_type": "code",
   "execution_count": 5,
   "id": "df1b2fd2",
   "metadata": {},
   "outputs": [],
   "source": [
    "def prime_factors_comprehension(n):\n",
    "    factors = []\n",
    "    [factors.append(2) or (n := n // 2) for _ in range(1) if n % 2 == 0]\n",
    "    [factors.append(i) or (n := n // i) for i in range(3, int(n**0.5) + 1, 2) for _ in range(1) if n % i == 0]\n",
    "    if n > 2:\n",
    "        factors.append(n)\n",
    "    return factors"
   ]
  },
  {
   "cell_type": "code",
   "execution_count": 7,
   "id": "ef970dd4",
   "metadata": {},
   "outputs": [
    {
     "name": "stdout",
     "output_type": "stream",
     "text": [
      "Prime factors of 56 using list comprehension: [2, 28]\n"
     ]
    }
   ],
   "source": [
    "number = 56\n",
    "print(f\"Prime factors of {number} using list comprehension: {prime_factors_comprehension(number)}\")"
   ]
  },
  {
   "cell_type": "markdown",
   "id": "fb29400e-ea11-4f12-b187-bb64c13de5ce",
   "metadata": {},
   "source": [
    "## 23. Develop a program that extracts unique elements from a list and stores them in a new list using a list comprehension."
   ]
  },
  {
   "cell_type": "code",
   "execution_count": 8,
   "id": "06a9c288",
   "metadata": {},
   "outputs": [],
   "source": [
    "def unique_elements(input_list):\n",
    "    seen = set()\n",
    "    unique_list = [x for x in input_list if not (x in seen or seen.add(x))]\n",
    "    return unique_list\n"
   ]
  },
  {
   "cell_type": "code",
   "execution_count": 9,
   "id": "5e195ba9",
   "metadata": {},
   "outputs": [
    {
     "name": "stdout",
     "output_type": "stream",
     "text": [
      "Unique elements: [1, 2, 3, 4, 5, 6, 7]\n"
     ]
    }
   ],
   "source": [
    "input_list = [1, 2, 2, 3, 4, 4, 5, 6, 6, 7]\n",
    "unique_list = unique_elements(input_list)\n",
    "print(f\"Unique elements: {unique_list}\")"
   ]
  },
  {
   "cell_type": "markdown",
   "id": "9bb3e9e7-8973-4cbd-9855-10422cb6e94e",
   "metadata": {},
   "source": [
    "## 24. Create a program that generates a list of all palindromic numbers up to a specified limit using a list comprehension."
   ]
  },
  {
   "cell_type": "code",
   "execution_count": 10,
   "id": "3919c455-97d8-40f3-a095-5548f9cb82f5",
   "metadata": {},
   "outputs": [],
   "source": [
    "def generate_palindromes(limit):\n",
    "    palindromes = [num for num in range(limit + 1) if str(num) == str(num)[::-1]]\n",
    "    return palindromes"
   ]
  },
  {
   "cell_type": "code",
   "execution_count": 11,
   "id": "b7fea1d7-1c3d-4a46-b164-1a94e50a8057",
   "metadata": {},
   "outputs": [
    {
     "name": "stdout",
     "output_type": "stream",
     "text": [
      "Palindromic numbers up to 1000: [0, 1, 2, 3, 4, 5, 6, 7, 8, 9, 11, 22, 33, 44, 55, 66, 77, 88, 99, 101, 111, 121, 131, 141, 151, 161, 171, 181, 191, 202, 212, 222, 232, 242, 252, 262, 272, 282, 292, 303, 313, 323, 333, 343, 353, 363, 373, 383, 393, 404, 414, 424, 434, 444, 454, 464, 474, 484, 494, 505, 515, 525, 535, 545, 555, 565, 575, 585, 595, 606, 616, 626, 636, 646, 656, 666, 676, 686, 696, 707, 717, 727, 737, 747, 757, 767, 777, 787, 797, 808, 818, 828, 838, 848, 858, 868, 878, 888, 898, 909, 919, 929, 939, 949, 959, 969, 979, 989, 999]\n"
     ]
    }
   ],
   "source": [
    "limit = 1000\n",
    "palindromic_numbers = generate_palindromes(limit)\n",
    "print(f\"Palindromic numbers up to {limit}: {palindromic_numbers}\")"
   ]
  },
  {
   "cell_type": "markdown",
   "id": "0ea0be8b-48e2-4afa-b2b7-5f14531009e1",
   "metadata": {},
   "source": [
    "## 25. Write a program to flatten a nested list using list comprehension."
   ]
  },
  {
   "cell_type": "code",
   "execution_count": 12,
   "id": "fdff855e-10cd-442c-b8ff-fd6cbb273c76",
   "metadata": {},
   "outputs": [],
   "source": [
    "def flatten(nested_list):\n",
    "    flat_list = [item for sublist in nested_list for item in sublist]\n",
    "    return flat_list"
   ]
  },
  {
   "cell_type": "code",
   "execution_count": 13,
   "id": "d8dd6362-35cb-4c9e-a85c-5bc8284ae357",
   "metadata": {},
   "outputs": [
    {
     "name": "stdout",
     "output_type": "stream",
     "text": [
      "Flattened list: [1, 2, 3, 4, 5, 6, 7, 8, 9]\n"
     ]
    }
   ],
   "source": [
    "nested_list = [[1, 2, 3], [4, 5], [6, 7, 8, 9]]\n",
    "flattened_list = flatten(nested_list)\n",
    "print(f\"Flattened list: {flattened_list}\")"
   ]
  },
  {
   "cell_type": "markdown",
   "id": "727825a1-a7a1-445a-a7bb-d654f92ec63e",
   "metadata": {},
   "source": [
    "## 26. Develop a program that computes the sum of even and odd numbers in a list separately using list comprehension."
   ]
  },
  {
   "cell_type": "code",
   "execution_count": 1,
   "id": "2a744cc4-b82d-45c3-808f-167c09df70fb",
   "metadata": {},
   "outputs": [],
   "source": [
    "def sum_even_odd(numbers):\n",
    "    even_sum = sum([num for num in numbers if num % 2 == 0])\n",
    "    odd_sum = sum([num for num in numbers if num % 2 != 0])\n",
    "    return even_sum, odd_sum"
   ]
  },
  {
   "cell_type": "code",
   "execution_count": 2,
   "id": "d3127095-68df-4c20-af37-0045303a50fa",
   "metadata": {},
   "outputs": [
    {
     "name": "stdout",
     "output_type": "stream",
     "text": [
      "Sum of even numbers: 30\n",
      "Sum of odd numbers: 25\n"
     ]
    }
   ],
   "source": [
    "numbers = [1, 2, 3, 4, 5, 6, 7, 8, 9, 10]\n",
    "even_sum, odd_sum = sum_even_odd(numbers)\n",
    "print(f\"Sum of even numbers: {even_sum}\")\n",
    "print(f\"Sum of odd numbers: {odd_sum}\")"
   ]
  },
  {
   "cell_type": "markdown",
   "id": "c94b9a3b-2da9-4deb-b821-e7db68587344",
   "metadata": {},
   "source": [
    "# 27. Create a program that generates a list of squares of odd numbers between 1 and 10 using list comprehension."
   ]
  },
  {
   "cell_type": "code",
   "execution_count": 3,
   "id": "963f3043-3238-4093-a524-55e2ace76ee5",
   "metadata": {},
   "outputs": [],
   "source": [
    "squares_of_odd_numbers = [num**2 for num in range(1, 11) if num % 2 != 0]\n"
   ]
  },
  {
   "cell_type": "code",
   "execution_count": 4,
   "id": "8e281739-f04b-4015-8009-a4ff5c3891b1",
   "metadata": {},
   "outputs": [
    {
     "data": {
      "text/plain": [
       "[1, 9, 25, 49, 81]"
      ]
     },
     "execution_count": 4,
     "metadata": {},
     "output_type": "execute_result"
    }
   ],
   "source": [
    "squares_of_odd_numbers"
   ]
  },
  {
   "cell_type": "markdown",
   "id": "4081edc0-1f0c-40f7-bca0-191b813ae876",
   "metadata": {},
   "source": [
    "## 28. Write a program that combines two lists into a dictionary using list comprehension."
   ]
  },
  {
   "cell_type": "code",
   "execution_count": 5,
   "id": "4fdd9c46-f5c3-4dbd-9c69-ccb1ded1ea46",
   "metadata": {},
   "outputs": [],
   "source": [
    "keys = ['a', 'b', 'c', 'd']\n",
    "values = [1, 2, 3, 4]\n",
    "combined_dict = {keys[i]: values[i] for i in range(len(keys))}"
   ]
  },
  {
   "cell_type": "code",
   "execution_count": 6,
   "id": "2cda8ccb-f7e5-4ca3-9a8c-b7ea08f8ec9d",
   "metadata": {},
   "outputs": [
    {
     "data": {
      "text/plain": [
       "{'a': 1, 'b': 2, 'c': 3, 'd': 4}"
      ]
     },
     "execution_count": 6,
     "metadata": {},
     "output_type": "execute_result"
    }
   ],
   "source": [
    "combined_dict"
   ]
  },
  {
   "cell_type": "markdown",
   "id": "a5633d98-79fb-44ec-91aa-603111022f28",
   "metadata": {},
   "source": [
    "## 29. Develop a program that extracts the vowels from a string and stores them in a list using list comprehension."
   ]
  },
  {
   "cell_type": "code",
   "execution_count": 7,
   "id": "764b5a35-86d2-41de-9b73-9860032dc758",
   "metadata": {},
   "outputs": [],
   "source": [
    "def extract_vowels(input_string):\n",
    "    vowels = 'aeiouAEIOU'\n",
    "    return [char for char in input_string if char in vowels]"
   ]
  },
  {
   "cell_type": "code",
   "execution_count": 8,
   "id": "493b86d6-3009-46b5-a7d7-bec1f5e8e698",
   "metadata": {},
   "outputs": [],
   "source": [
    "vowel_list = extract_vowels('Hello World')"
   ]
  },
  {
   "cell_type": "code",
   "execution_count": 9,
   "id": "d42bc475-4fdf-4568-912d-556a34782c5f",
   "metadata": {},
   "outputs": [
    {
     "data": {
      "text/plain": [
       "['e', 'o', 'o']"
      ]
     },
     "execution_count": 9,
     "metadata": {},
     "output_type": "execute_result"
    }
   ],
   "source": [
    "vowel_list"
   ]
  },
  {
   "cell_type": "markdown",
   "id": "a70ff21d-cea8-419a-87e1-f88d3fb8bb1e",
   "metadata": {},
   "source": [
    "## 30. Create a program that removes all non-numeric characters from a list of strings using list comprehension."
   ]
  },
  {
   "cell_type": "code",
   "execution_count": 10,
   "id": "6a1d98a2-9332-4a0c-8cc9-68a7e0662291",
   "metadata": {},
   "outputs": [],
   "source": [
    "def remove_non_numeric(strings):\n",
    "    return [''.join([char for char in string if char.isdigit()]) for string in strings]"
   ]
  },
  {
   "cell_type": "code",
   "execution_count": 11,
   "id": "63be795c-c37a-4e93-aa5b-ad1a621eaed5",
   "metadata": {},
   "outputs": [],
   "source": [
    "input_strings = [\"abc123\", \"def456ghi\", \"789xyz\"]\n",
    "numeric_strings = remove_non_numeric(input_strings)"
   ]
  },
  {
   "cell_type": "code",
   "execution_count": 12,
   "id": "9cda8328-6639-47b6-8dd5-174ed0e24eb4",
   "metadata": {},
   "outputs": [
    {
     "data": {
      "text/plain": [
       "['123', '456', '789']"
      ]
     },
     "execution_count": 12,
     "metadata": {},
     "output_type": "execute_result"
    }
   ],
   "source": [
    "numeric_strings"
   ]
  },
  {
   "cell_type": "markdown",
   "id": "505dab7e-2d9c-4e5b-a48a-c85a1f5a87d5",
   "metadata": {},
   "source": [
    "# Challenge Level:"
   ]
  },
  {
   "cell_type": "markdown",
   "id": "15393329-17d0-4e42-a790-83c4c3386c63",
   "metadata": {},
   "source": [
    "## 31. Write a program to generate a list of prime numbers using the Sieve of Eratosthenes algorithm and list comprehension."
   ]
  },
  {
   "cell_type": "code",
   "execution_count": 1,
   "id": "9470dd4b-f223-44f0-becf-38bbe347f130",
   "metadata": {},
   "outputs": [],
   "source": [
    "def sieve_of_eratosthenes(limit):\n",
    "    sieve = [True] * (limit + 1)\n",
    "    sieve[0] = sieve[1] = False  # 0 and 1 are not prime numbers\n",
    "    for start in range(2, int(limit**0.5) + 1):\n",
    "        if sieve[start]:\n",
    "            for multiple in range(start*start, limit + 1, start):\n",
    "                sieve[multiple] = False\n",
    "    return [num for num, is_prime in enumerate(sieve) if is_prime]\n"
   ]
  },
  {
   "cell_type": "code",
   "execution_count": 2,
   "id": "becdbf3f-651a-4d49-abdc-8a4263317efa",
   "metadata": {},
   "outputs": [
    {
     "name": "stdout",
     "output_type": "stream",
     "text": [
      "[2, 3, 5, 7, 11, 13, 17, 19, 23, 29, 31, 37, 41, 43, 47]\n"
     ]
    }
   ],
   "source": [
    "\n",
    "limit = 50\n",
    "prime_numbers = sieve_of_eratosthenes(limit)\n",
    "print(prime_numbers)"
   ]
  },
  {
   "cell_type": "markdown",
   "id": "fecfed06-b2ff-4288-a4eb-22b2f86faff3",
   "metadata": {},
   "source": [
    "## 32. Create a program that generates a list of all Pythagorean triplets up to a specified limit using list comprehension."
   ]
  },
  {
   "cell_type": "code",
   "execution_count": 3,
   "id": "d405bc5c-8202-4bad-a15a-793d27ce54b3",
   "metadata": {},
   "outputs": [],
   "source": [
    "def pythagorean_triplets(limit):\n",
    "    return [(a, b, c)\n",
    "            for a in range(1, limit)\n",
    "            for b in range(a, limit)\n",
    "            for c in range(b, limit)\n",
    "            if a*a + b*b == c*c]\n",
    "\n"
   ]
  },
  {
   "cell_type": "code",
   "execution_count": 4,
   "id": "b22c1260-49d7-4cf4-b69f-f5e18a7b208e",
   "metadata": {},
   "outputs": [
    {
     "data": {
      "text/plain": [
       "[(3, 4, 5),\n",
       " (5, 12, 13),\n",
       " (6, 8, 10),\n",
       " (7, 24, 25),\n",
       " (8, 15, 17),\n",
       " (9, 12, 15),\n",
       " (10, 24, 26),\n",
       " (12, 16, 20),\n",
       " (15, 20, 25),\n",
       " (20, 21, 29)]"
      ]
     },
     "execution_count": 4,
     "metadata": {},
     "output_type": "execute_result"
    }
   ],
   "source": [
    "\n",
    "limit = 30\n",
    "triplets = pythagorean_triplets(limit)\n",
    "triplets\n"
   ]
  },
  {
   "cell_type": "markdown",
   "id": "0aa715ac-2d94-40e5-8cc7-b7e11969cef8",
   "metadata": {},
   "source": [
    "## 33. Develop a program that generates a list of all possible combinations of two lists using list comprehension."
   ]
  },
  {
   "cell_type": "code",
   "execution_count": 5,
   "id": "a495cdcc-6233-4287-bb06-be27e002d758",
   "metadata": {},
   "outputs": [],
   "source": [
    "def combinations(list1, list2):\n",
    "    return [(a, b) for a in list1 for b in list2]"
   ]
  },
  {
   "cell_type": "code",
   "execution_count": 6,
   "id": "99823697-90f1-41a2-9c91-e2dbbbedc318",
   "metadata": {},
   "outputs": [
    {
     "data": {
      "text/plain": [
       "[(1, 'a'), (1, 'b'), (2, 'a'), (2, 'b'), (3, 'a'), (3, 'b')]"
      ]
     },
     "execution_count": 6,
     "metadata": {},
     "output_type": "execute_result"
    }
   ],
   "source": [
    "list1 = [1, 2, 3]\n",
    "list2 = ['a', 'b']\n",
    "combinations_result = combinations(list1, list2)\n",
    "combinations_result"
   ]
  },
  {
   "cell_type": "markdown",
   "id": "7a175a33-3671-4c9d-8344-de630fe0e91b",
   "metadata": {},
   "source": [
    "## 34. Write a program that calculates the mean, median, and mode of a list of numbers using list comprehension."
   ]
  },
  {
   "cell_type": "code",
   "execution_count": 7,
   "id": "c01fe170-741b-4c60-b3ee-80e6c8e7017f",
   "metadata": {},
   "outputs": [],
   "source": [
    "from collections import Counter\n",
    "import statistics\n",
    "\n",
    "def calculate_statistics(numbers):\n",
    "    mean = sum(numbers) / len(numbers)\n",
    "    sorted_numbers = sorted(numbers)\n",
    "    n = len(numbers)\n",
    "    median = (sorted_numbers[n//2] if n % 2 != 0 else (sorted_numbers[n//2 - 1] + sorted_numbers[n//2]) / 2)\n",
    "    mode = statistics.mode(numbers) if numbers else None\n",
    "    \n",
    "    return mean, median, mode"
   ]
  },
  {
   "cell_type": "code",
   "execution_count": 8,
   "id": "797a6390-8177-4046-8b92-c754cd46d55a",
   "metadata": {},
   "outputs": [
    {
     "name": "stdout",
     "output_type": "stream",
     "text": [
      "Mean: 2.4, Median: 2, Mode: 2\n"
     ]
    }
   ],
   "source": [
    "numbers = [1, 2, 2, 3, 4]\n",
    "mean, median, mode = calculate_statistics(numbers)\n",
    "print(f\"Mean: {mean}, Median: {median}, Mode: {mode}\")"
   ]
  },
  {
   "cell_type": "markdown",
   "id": "3b021d9d-3a51-4985-89a6-cb009199aa38",
   "metadata": {},
   "source": [
    "## 35. Create a program that generates Pascal's triangle up to a specified number of rows using list comprehension."
   ]
  },
  {
   "cell_type": "code",
   "execution_count": 9,
   "id": "ca81a6b9-9c62-4fd1-b115-22fe35593185",
   "metadata": {},
   "outputs": [],
   "source": [
    "def generate_pascals_triangle(rows):\n",
    "    triangle = [[1]]\n",
    "    for _ in range(1, rows):\n",
    "        next_row = [1] + [triangle[-1][i] + triangle[-1][i + 1] for i in range(len(triangle[-1]) - 1)] + [1]\n",
    "        triangle.append(next_row)\n",
    "    return triangle"
   ]
  },
  {
   "cell_type": "code",
   "execution_count": 10,
   "id": "ad000769-cbdd-48e1-8edb-d2c4432fc802",
   "metadata": {},
   "outputs": [
    {
     "name": "stdout",
     "output_type": "stream",
     "text": [
      "[1]\n",
      "[1, 1]\n",
      "[1, 2, 1]\n",
      "[1, 3, 3, 1]\n",
      "[1, 4, 6, 4, 1]\n"
     ]
    }
   ],
   "source": [
    "rows = 5\n",
    "pascals_triangle = generate_pascals_triangle(rows)\n",
    "for row in pascals_triangle:\n",
    "    print(row)"
   ]
  },
  {
   "cell_type": "markdown",
   "id": "1d7623b6-5f80-4700-b998-25e855fa161b",
   "metadata": {},
   "source": [
    "## 36. Develop a program that calculates the sum of the digits of a factorial of numbers from 1 to 5 using list comprehension."
   ]
  },
  {
   "cell_type": "code",
   "execution_count": 1,
   "id": "c894d766-de63-4138-9db2-5858f6f26a3d",
   "metadata": {},
   "outputs": [
    {
     "name": "stdout",
     "output_type": "stream",
     "text": [
      "[1, 2, 6, 6, 3]\n"
     ]
    }
   ],
   "source": [
    "import math\n",
    "\n",
    "sum_of_digits_factorials = [sum(int(digit) for digit in str(math.factorial(i))) for i in range(1, 6)]\n",
    "\n",
    "print(sum_of_digits_factorials)\n"
   ]
  },
  {
   "cell_type": "markdown",
   "id": "7f44b5e6-6ab2-4c23-bdda-29d6ebfb1876",
   "metadata": {},
   "source": [
    "## 37. Write a program that finds the longest word in a sentence using list comprehension."
   ]
  },
  {
   "cell_type": "code",
   "execution_count": 2,
   "id": "99276aeb-eb4d-4eb3-98c3-6ee4176a4d78",
   "metadata": {},
   "outputs": [
    {
     "name": "stdout",
     "output_type": "stream",
     "text": [
      "comprehension\n"
     ]
    }
   ],
   "source": [
    "sentence = \"Find the longest word in this sentence using list comprehension\"\n",
    "longest_word = max(sentence.split(), key=len)\n",
    "\n",
    "print(longest_word)\n"
   ]
  },
  {
   "cell_type": "markdown",
   "id": "dbfe4f49-867f-4251-b8e9-75b00c678b89",
   "metadata": {},
   "source": [
    "## 38. Create a program that filters a list of strings to include only those with more than three vowels using list comprehension."
   ]
  },
  {
   "cell_type": "code",
   "execution_count": 5,
   "id": "3393b1c5-a565-477d-bf3a-525db8966896",
   "metadata": {},
   "outputs": [
    {
     "name": "stdout",
     "output_type": "stream",
     "text": [
      "['eleephant']\n"
     ]
    }
   ],
   "source": [
    "strings = [\"apple\", \"banana\", \"cherry\", \"date\", \"elderberry\",\"eleephant\"]\n",
    "\n",
    "def count_vowels(s):\n",
    "    return sum(1 for char in s if char in 'aeiou')\n",
    "\n",
    "# Filter strings with more than three vowels\n",
    "filtered_strings = [s for s in strings if count_vowels(s) > 3]\n",
    "\n",
    "print(filtered_strings)\n"
   ]
  },
  {
   "cell_type": "markdown",
   "id": "ce3c8e0d-f5da-45d7-94d7-a80c7c8194e0",
   "metadata": {},
   "source": [
    "## 39. Develop a program that calculates the sum of the digits of numbers from 1 to 1000 using list comprehension."
   ]
  },
  {
   "cell_type": "code",
   "execution_count": 6,
   "id": "019db19e-52fa-4c37-b060-3e997d06567c",
   "metadata": {},
   "outputs": [
    {
     "name": "stdout",
     "output_type": "stream",
     "text": [
      "[1, 2, 3, 4, 5, 6, 7, 8, 9, 1, 2, 3, 4, 5, 6, 7, 8, 9, 10, 2, 3, 4, 5, 6, 7, 8, 9, 10, 11, 3, 4, 5, 6, 7, 8, 9, 10, 11, 12, 4, 5, 6, 7, 8, 9, 10, 11, 12, 13, 5, 6, 7, 8, 9, 10, 11, 12, 13, 14, 6, 7, 8, 9, 10, 11, 12, 13, 14, 15, 7, 8, 9, 10, 11, 12, 13, 14, 15, 16, 8, 9, 10, 11, 12, 13, 14, 15, 16, 17, 9, 10, 11, 12, 13, 14, 15, 16, 17, 18, 1, 2, 3, 4, 5, 6, 7, 8, 9, 10, 2, 3, 4, 5, 6, 7, 8, 9, 10, 11, 3, 4, 5, 6, 7, 8, 9, 10, 11, 12, 4, 5, 6, 7, 8, 9, 10, 11, 12, 13, 5, 6, 7, 8, 9, 10, 11, 12, 13, 14, 6, 7, 8, 9, 10, 11, 12, 13, 14, 15, 7, 8, 9, 10, 11, 12, 13, 14, 15, 16, 8, 9, 10, 11, 12, 13, 14, 15, 16, 17, 9, 10, 11, 12, 13, 14, 15, 16, 17, 18, 10, 11, 12, 13, 14, 15, 16, 17, 18, 19, 2, 3, 4, 5, 6, 7, 8, 9, 10, 11, 3, 4, 5, 6, 7, 8, 9, 10, 11, 12, 4, 5, 6, 7, 8, 9, 10, 11, 12, 13, 5, 6, 7, 8, 9, 10, 11, 12, 13, 14, 6, 7, 8, 9, 10, 11, 12, 13, 14, 15, 7, 8, 9, 10, 11, 12, 13, 14, 15, 16, 8, 9, 10, 11, 12, 13, 14, 15, 16, 17, 9, 10, 11, 12, 13, 14, 15, 16, 17, 18, 10, 11, 12, 13, 14, 15, 16, 17, 18, 19, 11, 12, 13, 14, 15, 16, 17, 18, 19, 20, 3, 4, 5, 6, 7, 8, 9, 10, 11, 12, 4, 5, 6, 7, 8, 9, 10, 11, 12, 13, 5, 6, 7, 8, 9, 10, 11, 12, 13, 14, 6, 7, 8, 9, 10, 11, 12, 13, 14, 15, 7, 8, 9, 10, 11, 12, 13, 14, 15, 16, 8, 9, 10, 11, 12, 13, 14, 15, 16, 17, 9, 10, 11, 12, 13, 14, 15, 16, 17, 18, 10, 11, 12, 13, 14, 15, 16, 17, 18, 19, 11, 12, 13, 14, 15, 16, 17, 18, 19, 20, 12, 13, 14, 15, 16, 17, 18, 19, 20, 21, 4, 5, 6, 7, 8, 9, 10, 11, 12, 13, 5, 6, 7, 8, 9, 10, 11, 12, 13, 14, 6, 7, 8, 9, 10, 11, 12, 13, 14, 15, 7, 8, 9, 10, 11, 12, 13, 14, 15, 16, 8, 9, 10, 11, 12, 13, 14, 15, 16, 17, 9, 10, 11, 12, 13, 14, 15, 16, 17, 18, 10, 11, 12, 13, 14, 15, 16, 17, 18, 19, 11, 12, 13, 14, 15, 16, 17, 18, 19, 20, 12, 13, 14, 15, 16, 17, 18, 19, 20, 21, 13, 14, 15, 16, 17, 18, 19, 20, 21, 22, 5, 6, 7, 8, 9, 10, 11, 12, 13, 14, 6, 7, 8, 9, 10, 11, 12, 13, 14, 15, 7, 8, 9, 10, 11, 12, 13, 14, 15, 16, 8, 9, 10, 11, 12, 13, 14, 15, 16, 17, 9, 10, 11, 12, 13, 14, 15, 16, 17, 18, 10, 11, 12, 13, 14, 15, 16, 17, 18, 19, 11, 12, 13, 14, 15, 16, 17, 18, 19, 20, 12, 13, 14, 15, 16, 17, 18, 19, 20, 21, 13, 14, 15, 16, 17, 18, 19, 20, 21, 22, 14, 15, 16, 17, 18, 19, 20, 21, 22, 23, 6, 7, 8, 9, 10, 11, 12, 13, 14, 15, 7, 8, 9, 10, 11, 12, 13, 14, 15, 16, 8, 9, 10, 11, 12, 13, 14, 15, 16, 17, 9, 10, 11, 12, 13, 14, 15, 16, 17, 18, 10, 11, 12, 13, 14, 15, 16, 17, 18, 19, 11, 12, 13, 14, 15, 16, 17, 18, 19, 20, 12, 13, 14, 15, 16, 17, 18, 19, 20, 21, 13, 14, 15, 16, 17, 18, 19, 20, 21, 22, 14, 15, 16, 17, 18, 19, 20, 21, 22, 23, 15, 16, 17, 18, 19, 20, 21, 22, 23, 24, 7, 8, 9, 10, 11, 12, 13, 14, 15, 16, 8, 9, 10, 11, 12, 13, 14, 15, 16, 17, 9, 10, 11, 12, 13, 14, 15, 16, 17, 18, 10, 11, 12, 13, 14, 15, 16, 17, 18, 19, 11, 12, 13, 14, 15, 16, 17, 18, 19, 20, 12, 13, 14, 15, 16, 17, 18, 19, 20, 21, 13, 14, 15, 16, 17, 18, 19, 20, 21, 22, 14, 15, 16, 17, 18, 19, 20, 21, 22, 23, 15, 16, 17, 18, 19, 20, 21, 22, 23, 24, 16, 17, 18, 19, 20, 21, 22, 23, 24, 25, 8, 9, 10, 11, 12, 13, 14, 15, 16, 17, 9, 10, 11, 12, 13, 14, 15, 16, 17, 18, 10, 11, 12, 13, 14, 15, 16, 17, 18, 19, 11, 12, 13, 14, 15, 16, 17, 18, 19, 20, 12, 13, 14, 15, 16, 17, 18, 19, 20, 21, 13, 14, 15, 16, 17, 18, 19, 20, 21, 22, 14, 15, 16, 17, 18, 19, 20, 21, 22, 23, 15, 16, 17, 18, 19, 20, 21, 22, 23, 24, 16, 17, 18, 19, 20, 21, 22, 23, 24, 25, 17, 18, 19, 20, 21, 22, 23, 24, 25, 26, 9, 10, 11, 12, 13, 14, 15, 16, 17, 18, 10, 11, 12, 13, 14, 15, 16, 17, 18, 19, 11, 12, 13, 14, 15, 16, 17, 18, 19, 20, 12, 13, 14, 15, 16, 17, 18, 19, 20, 21, 13, 14, 15, 16, 17, 18, 19, 20, 21, 22, 14, 15, 16, 17, 18, 19, 20, 21, 22, 23, 15, 16, 17, 18, 19, 20, 21, 22, 23, 24, 16, 17, 18, 19, 20, 21, 22, 23, 24, 25, 17, 18, 19, 20, 21, 22, 23, 24, 25, 26, 18, 19, 20, 21, 22, 23, 24, 25, 26, 27, 1]\n"
     ]
    }
   ],
   "source": [
    "sum_of_digits_numbers = [sum(int(digit) for digit in str(i)) for i in range(1, 1001)]\n",
    "\n",
    "print(sum_of_digits_numbers)\n"
   ]
  },
  {
   "cell_type": "markdown",
   "id": "8bf75ec5-7ef7-43d4-ad3c-13f14f26498f",
   "metadata": {},
   "source": [
    "## 40. Write a program that generates a list of prime palindromic numbers using list comprehension."
   ]
  },
  {
   "cell_type": "code",
   "execution_count": 7,
   "id": "c2114296-2f38-4086-9990-20f7424e8c6b",
   "metadata": {},
   "outputs": [
    {
     "name": "stdout",
     "output_type": "stream",
     "text": [
      "[2, 3, 5, 7, 11, 101, 131, 151, 181, 191, 313, 353, 373, 383, 727, 757, 787, 797, 919, 929]\n"
     ]
    }
   ],
   "source": [
    "def is_prime(n):\n",
    "    if n <= 1:\n",
    "        return False\n",
    "    if n <= 3:\n",
    "        return True\n",
    "    if n % 2 == 0 or n % 3 == 0:\n",
    "        return False\n",
    "    i = 5\n",
    "    while i * i <= n:\n",
    "        if n % i == 0 or n % (i + 2) == 0:\n",
    "            return False\n",
    "        i += 6\n",
    "    return True\n",
    "\n",
    "def is_palindrome(n):\n",
    "    s = str(n)\n",
    "    return s == s[::-1]\n",
    "\n",
    "# Generate a list of prime palindromic numbers\n",
    "prime_palindromic_numbers = [n for n in range(2, 1001) if is_prime(n) and is_palindrome(n)]\n",
    "\n",
    "print(prime_palindromic_numbers)\n"
   ]
  },
  {
   "cell_type": "code",
   "execution_count": null,
   "id": "d53f951f-287b-4bda-a574-68e3e5cc7fc0",
   "metadata": {},
   "outputs": [],
   "source": []
  }
 ],
 "metadata": {
  "kernelspec": {
   "display_name": "Python 3 (ipykernel)",
   "language": "python",
   "name": "python3"
  },
  "language_info": {
   "codemirror_mode": {
    "name": "ipython",
    "version": 3
   },
   "file_extension": ".py",
   "mimetype": "text/x-python",
   "name": "python",
   "nbconvert_exporter": "python",
   "pygments_lexer": "ipython3",
   "version": "3.11.5"
  }
 },
 "nbformat": 4,
 "nbformat_minor": 5
}
