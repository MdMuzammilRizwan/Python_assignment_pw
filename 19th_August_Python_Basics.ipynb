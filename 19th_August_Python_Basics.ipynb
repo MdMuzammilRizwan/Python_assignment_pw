{
 "cells": [
  {
   "cell_type": "markdown",
   "id": "f5aa0f6a",
   "metadata": {},
   "source": [
    "\n",
    "# TOPIC: Python Basics Variable"
   ]
  },
  {
   "cell_type": "markdown",
   "id": "3c7cbbd7",
   "metadata": {},
   "source": [
    "# 1. Declare two variables, `x` and `y`, and assign them integer values. Swap the values of these variables without using any temporary variable."
   ]
  },
  {
   "cell_type": "code",
   "execution_count": 1,
   "id": "c66e8269",
   "metadata": {},
   "outputs": [
    {
     "name": "stdout",
     "output_type": "stream",
     "text": [
      "7 6\n"
     ]
    }
   ],
   "source": [
    "x,y = 6,7\n",
    "\n",
    "x,y = y,x\n",
    "print(x,y)"
   ]
  },
  {
   "cell_type": "markdown",
   "id": "ceebb114",
   "metadata": {},
   "source": [
    "# 2. Create a program that calculates the area of a rectangle. Take the length and width as inputs from the user and store them in variables. Calculate and display the area."
   ]
  },
  {
   "cell_type": "code",
   "execution_count": 4,
   "id": "7f145d08",
   "metadata": {},
   "outputs": [
    {
     "name": "stdout",
     "output_type": "stream",
     "text": [
      "Enter the length 16.5\n",
      "Enter the width 8.25\n",
      "\n",
      "The area of rectangle of length 16.5 and width 8.25 is  136.125\n"
     ]
    }
   ],
   "source": [
    "l = float(input('Enter the length: '))\n",
    "w = float(input('Enter the width: '))\n",
    "\n",
    "area = l*w\n",
    "print()\n",
    "print(f\"The area of rectangle of length {l} and width {w} is \",area)"
   ]
  },
  {
   "cell_type": "markdown",
   "id": "e11bc05b",
   "metadata": {},
   "source": [
    "# 3. Write a Python program that converts temperatures from Celsius to Fahrenheit. Take the temperature in Celsius as input, store it in a variable, convert it to Fahrenheit, and display the result."
   ]
  },
  {
   "cell_type": "code",
   "execution_count": 6,
   "id": "4f52a0d6",
   "metadata": {},
   "outputs": [
    {
     "name": "stdout",
     "output_type": "stream",
     "text": [
      "Enter the temperature in Celsius42.5\n",
      "\n",
      "42.5°C in Fahrenheit is 108.5°F\n"
     ]
    }
   ],
   "source": [
    "celsius = float(input(\"Enter the temperature in Celsius: \"))\n",
    "\n",
    "fahrenheit = (celsius * (9/5)) + 32\n",
    "print()\n",
    "print(f\"{celsius}°C in Fahrenheit is {fahrenheit}°F\")"
   ]
  },
  {
   "cell_type": "markdown",
   "id": "ae808819",
   "metadata": {},
   "source": [
    "# TOPIC: String Based Questions"
   ]
  },
  {
   "cell_type": "markdown",
   "id": "a801554f",
   "metadata": {},
   "source": [
    "# 1. Write a Python program that takes a string as input and prints the length of the string."
   ]
  },
  {
   "cell_type": "code",
   "execution_count": 10,
   "id": "b6c42e3a",
   "metadata": {},
   "outputs": [
    {
     "name": "stdout",
     "output_type": "stream",
     "text": [
      "Enter a String: Attif Khan\n",
      "\n",
      "The length of the string is  10\n"
     ]
    }
   ],
   "source": [
    "# By using in-built length function\n",
    "\n",
    "s = input(\"Enter a String: \")\n",
    "print()\n",
    "print(\"The length of the string is \",len(s))"
   ]
  },
  {
   "cell_type": "code",
   "execution_count": 12,
   "id": "461f6c24",
   "metadata": {},
   "outputs": [
    {
     "name": "stdout",
     "output_type": "stream",
     "text": [
      "Enter a String: Attif Khan\n",
      "\n",
      "The length of the string is  10\n"
     ]
    }
   ],
   "source": [
    "# By iterating the string using a for loop and incrementing the length variable at every iteration\n",
    "\n",
    "s = input(\"Enter a String: \")\n",
    "print()\n",
    "length = 0\n",
    "for i in s:\n",
    "    length+=1\n",
    "    \n",
    "print(\"The length of the string is \",length)\n",
    "    \n",
    "    "
   ]
  },
  {
   "cell_type": "markdown",
   "id": "48d23ccf",
   "metadata": {},
   "source": [
    "# 2. Create a program that takes a sentence from the user and counts the number of vowels (a, e, i, o, u) in the string."
   ]
  },
  {
   "cell_type": "code",
   "execution_count": 17,
   "id": "a4989974",
   "metadata": {},
   "outputs": [
    {
     "name": "stdout",
     "output_type": "stream",
     "text": [
      "Enter a sentence: Hello My NAmE is Attif Khan\n",
      "\n",
      "The total number of vowels present in the sentence is 8\n"
     ]
    }
   ],
   "source": [
    "sentence = input(\"Enter a sentence: \")\n",
    "\n",
    "vowels = 0\n",
    "for i in sentence:\n",
    "    if i == 'a' or i == 'e' or i == 'i' or i == 'o' or i == 'u':\n",
    "        vowels += 1\n",
    "    elif i == 'A' or i == 'E' or i == 'I' or i == 'O' or i == 'U':\n",
    "        vowels += 1\n",
    "\n",
    "        \n",
    "print()\n",
    "print(\"The total number of vowels present in the sentence is\",vowels)\n",
    "        "
   ]
  },
  {
   "cell_type": "markdown",
   "id": "ef381149",
   "metadata": {},
   "source": [
    "# 3. Given a string, reverse the order of characters using string slicing and print the reversed string."
   ]
  },
  {
   "cell_type": "code",
   "execution_count": 22,
   "id": "5472a74a",
   "metadata": {},
   "outputs": [
    {
     "name": "stdout",
     "output_type": "stream",
     "text": [
      "The reversed order of the given string 'Hello sir, Attif this side' is \n",
      " edis siht fittA ,ris olleH\n"
     ]
    }
   ],
   "source": [
    "s = \"Hello sir, Attif this side\"\n",
    "\n",
    "print(f\"The reversed order of the given string '{s}' is \\n\",s[::-1])\n"
   ]
  },
  {
   "cell_type": "markdown",
   "id": "02461a49",
   "metadata": {},
   "source": [
    "# 4. Write a program that takes a string as input and checks if it is a palindrome (reads the same forwards and backwards)."
   ]
  },
  {
   "cell_type": "code",
   "execution_count": 25,
   "id": "010de4e9",
   "metadata": {},
   "outputs": [
    {
     "name": "stdout",
     "output_type": "stream",
     "text": [
      "Enter a string: level\n",
      "\n",
      "The entered string level is a Pallindrome\n"
     ]
    }
   ],
   "source": [
    "s = input(\"Enter a string: \")\n",
    "\n",
    "print()\n",
    "if s == s[::-1]:\n",
    "    print(f\"The entered string {s} is a Pallindrome\")\n",
    "else:\n",
    "    print(\"The entered string is not a Pallindrome\")"
   ]
  },
  {
   "cell_type": "markdown",
   "id": "bcd02bf6",
   "metadata": {},
   "source": [
    "# 5. Create a program that takes a string as input and removes all the spaces from it. Print the modified string without spaces."
   ]
  },
  {
   "cell_type": "code",
   "execution_count": 27,
   "id": "9f2f42ad",
   "metadata": {},
   "outputs": [
    {
     "name": "stdout",
     "output_type": "stream",
     "text": [
      "Enter a string: This is program which on executing removes the spaces from the sentence\n",
      "\n",
      "String without spaces \n",
      " Thisisprogramwhichonexecutingremovesthespacesfromthesentence\n"
     ]
    }
   ],
   "source": [
    "s = input(\"Enter a string: \")\n",
    "\n",
    "ws = ''\n",
    "for i in s:\n",
    "    if i != ' ':\n",
    "        ws += i\n",
    "\n",
    "print()\n",
    "print(\"String without spaces \\n\",ws)"
   ]
  },
  {
   "cell_type": "code",
   "execution_count": null,
   "id": "f0324238",
   "metadata": {},
   "outputs": [],
   "source": []
  }
 ],
 "metadata": {
  "kernelspec": {
   "display_name": "Python 3 (ipykernel)",
   "language": "python",
   "name": "python3"
  },
  "language_info": {
   "codemirror_mode": {
    "name": "ipython",
    "version": 3
   },
   "file_extension": ".py",
   "mimetype": "text/x-python",
   "name": "python",
   "nbconvert_exporter": "python",
   "pygments_lexer": "ipython3",
   "version": "3.11.3"
  }
 },
 "nbformat": 4,
 "nbformat_minor": 5
}
