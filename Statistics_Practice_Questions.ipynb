{
 "cells": [
  {
   "cell_type": "markdown",
   "id": "f9b54578",
   "metadata": {},
   "source": [
    "# 1.Generate a list of 100 integers containing values between 90 to 130 and store it in the variable int_list. After generating the list, find the following"
   ]
  },
  {
   "cell_type": "code",
   "execution_count": 2,
   "id": "efcbbacc",
   "metadata": {},
   "outputs": [
    {
     "data": {
      "text/plain": [
       "[107,\n",
       " 98,\n",
       " 107,\n",
       " 118,\n",
       " 98,\n",
       " 112,\n",
       " 127,\n",
       " 106,\n",
       " 130,\n",
       " 122,\n",
       " 120,\n",
       " 120,\n",
       " 99,\n",
       " 91,\n",
       " 130,\n",
       " 115,\n",
       " 119,\n",
       " 100,\n",
       " 110,\n",
       " 100,\n",
       " 124,\n",
       " 119,\n",
       " 98,\n",
       " 117,\n",
       " 117,\n",
       " 117,\n",
       " 105,\n",
       " 110,\n",
       " 92,\n",
       " 125,\n",
       " 91,\n",
       " 119,\n",
       " 97,\n",
       " 102,\n",
       " 103,\n",
       " 97,\n",
       " 128,\n",
       " 115,\n",
       " 105,\n",
       " 108,\n",
       " 90,\n",
       " 107,\n",
       " 101,\n",
       " 114,\n",
       " 119,\n",
       " 124,\n",
       " 113,\n",
       " 116,\n",
       " 103,\n",
       " 111,\n",
       " 111,\n",
       " 122,\n",
       " 110,\n",
       " 108,\n",
       " 98,\n",
       " 95,\n",
       " 91,\n",
       " 91,\n",
       " 108,\n",
       " 115,\n",
       " 126,\n",
       " 115,\n",
       " 102,\n",
       " 114,\n",
       " 98,\n",
       " 99,\n",
       " 93,\n",
       " 98,\n",
       " 94,\n",
       " 115,\n",
       " 101,\n",
       " 107,\n",
       " 108,\n",
       " 98,\n",
       " 97,\n",
       " 126,\n",
       " 104,\n",
       " 106,\n",
       " 110,\n",
       " 93,\n",
       " 127,\n",
       " 123,\n",
       " 90,\n",
       " 124,\n",
       " 108,\n",
       " 101,\n",
       " 125,\n",
       " 108,\n",
       " 93,\n",
       " 92,\n",
       " 114,\n",
       " 127,\n",
       " 103,\n",
       " 121,\n",
       " 106,\n",
       " 130,\n",
       " 106,\n",
       " 107,\n",
       " 95,\n",
       " 101]"
      ]
     },
     "execution_count": 2,
     "metadata": {},
     "output_type": "execute_result"
    }
   ],
   "source": [
    "import random\n",
    "\n",
    "# Generating the list of 100 integers between 90 and 130\n",
    "int_list = [random.randint(90, 130) for _ in range(100)]\n",
    "int_list"
   ]
  },
  {
   "cell_type": "markdown",
   "id": "186b9411",
   "metadata": {},
   "source": [
    "# (i) Write a Python function to calculate the mean of a given list of numbers.Create a function to find the median of a list of numbers."
   ]
  },
  {
   "cell_type": "code",
   "execution_count": 3,
   "id": "35df9ec6",
   "metadata": {},
   "outputs": [
    {
     "name": "stdout",
     "output_type": "stream",
     "text": [
      "Mean: 108.7\n"
     ]
    }
   ],
   "source": [
    "def calculate_mean(numbers):\n",
    "    return sum(numbers) / len(numbers)\n",
    "\n",
    "# Example usage\n",
    "mean_value = calculate_mean(int_list)\n",
    "print(\"Mean:\", mean_value)\n"
   ]
  },
  {
   "cell_type": "code",
   "execution_count": 4,
   "id": "8b4dba79",
   "metadata": {},
   "outputs": [
    {
     "name": "stdout",
     "output_type": "stream",
     "text": [
      "Median: 108.0\n"
     ]
    }
   ],
   "source": [
    "def calculate_median(numbers):\n",
    "    sorted_numbers = sorted(numbers)\n",
    "    n = len(sorted_numbers)\n",
    "    mid_index = n // 2\n",
    "\n",
    "    if n % 2 == 0:  # Even number of elements\n",
    "        return (sorted_numbers[mid_index - 1] + sorted_numbers[mid_index]) / 2\n",
    "    else:  # Odd number of elements\n",
    "        return sorted_numbers[mid_index]\n",
    "\n",
    "# Example usage\n",
    "median_value = calculate_median(int_list)\n",
    "print(\"Median:\", median_value)\n"
   ]
  },
  {
   "cell_type": "markdown",
   "id": "c1526bdc",
   "metadata": {},
   "source": [
    "# (ii) Develop a program to compute the mode of a list of integers."
   ]
  },
  {
   "cell_type": "code",
   "execution_count": 5,
   "id": "4a65e6ba",
   "metadata": {},
   "outputs": [
    {
     "name": "stdout",
     "output_type": "stream",
     "text": [
      "Mode: [98]\n"
     ]
    }
   ],
   "source": [
    "from collections import Counter\n",
    "\n",
    "def calculate_mode(numbers):\n",
    "    count = Counter(numbers)\n",
    "    max_count = max(count.values())\n",
    "    mode = [num for num, freq in count.items() if freq == max_count]\n",
    "    return mode\n",
    "\n",
    "# Example usage\n",
    "mode_value = calculate_mode(int_list)\n",
    "print(\"Mode:\", mode_value)\n"
   ]
  },
  {
   "cell_type": "markdown",
   "id": "c7708123",
   "metadata": {},
   "source": [
    "#   (iii) Implement a function to calculate the weighted mean of a list of values and their corresponding weights."
   ]
  },
  {
   "cell_type": "code",
   "execution_count": 6,
   "id": "35456846",
   "metadata": {},
   "outputs": [
    {
     "name": "stdout",
     "output_type": "stream",
     "text": [
      "Weighted Mean: 107.72233400402415\n"
     ]
    }
   ],
   "source": [
    "def calculate_weighted_mean(values, weights):\n",
    "    weighted_sum = sum(value * weight for value, weight in zip(values, weights))\n",
    "    total_weight = sum(weights)\n",
    "    return weighted_sum / total_weight\n",
    "\n",
    "# Example usage with example weights\n",
    "weights = [random.randint(1, 10) for _ in range(100)]\n",
    "weighted_mean_value = calculate_weighted_mean(int_list, weights)\n",
    "print(\"Weighted Mean:\", weighted_mean_value)\n"
   ]
  },
  {
   "cell_type": "markdown",
   "id": "72a0c531",
   "metadata": {},
   "source": [
    "#  (iv) Write a Python function to find the geometric mean of a list of positive numbers"
   ]
  },
  {
   "cell_type": "code",
   "execution_count": 7,
   "id": "c94c46a8",
   "metadata": {},
   "outputs": [
    {
     "name": "stdout",
     "output_type": "stream",
     "text": [
      "Geometric Mean: 108.1243848135139\n"
     ]
    }
   ],
   "source": [
    "import math\n",
    "\n",
    "def calculate_geometric_mean(numbers):\n",
    "    product = math.prod(numbers)\n",
    "    n = len(numbers)\n",
    "    return product ** (1 / n)\n",
    "\n",
    "# Example usage (ensure all numbers in int_list are positive)\n",
    "geometric_mean_value = calculate_geometric_mean(int_list)\n",
    "print(\"Geometric Mean:\", geometric_mean_value)\n"
   ]
  },
  {
   "cell_type": "markdown",
   "id": "23d73803",
   "metadata": {},
   "source": [
    "# (v) Create a program to calculate the harmonic mean of a list of values."
   ]
  },
  {
   "cell_type": "code",
   "execution_count": 8,
   "id": "76cd750a",
   "metadata": {},
   "outputs": [
    {
     "name": "stdout",
     "output_type": "stream",
     "text": [
      "Harmonic Mean: 107.55203811571718\n"
     ]
    }
   ],
   "source": [
    "def calculate_harmonic_mean(numbers):\n",
    "    reciprocal_sum = sum(1 / num for num in numbers)\n",
    "    n = len(numbers)\n",
    "    return n / reciprocal_sum\n",
    "\n",
    "# Example usage\n",
    "harmonic_mean_value = calculate_harmonic_mean(int_list)\n",
    "print(\"Harmonic Mean:\", harmonic_mean_value)\n"
   ]
  },
  {
   "cell_type": "markdown",
   "id": "06ca5f42",
   "metadata": {},
   "source": [
    "#  (vi) Build a function to determine the midrange of a list of numbers (average of the minimum and maximum)"
   ]
  },
  {
   "cell_type": "code",
   "execution_count": 9,
   "id": "4b62dc97",
   "metadata": {},
   "outputs": [
    {
     "name": "stdout",
     "output_type": "stream",
     "text": [
      "Midrange: 110.0\n"
     ]
    }
   ],
   "source": [
    "def calculate_midrange(numbers):\n",
    "    min_value = min(numbers)\n",
    "    max_value = max(numbers)\n",
    "    return (min_value + max_value) / 2\n",
    "\n",
    "# Example usage\n",
    "midrange_value = calculate_midrange(int_list)\n",
    "print(\"Midrange:\", midrange_value)\n"
   ]
  },
  {
   "cell_type": "markdown",
   "id": "6f038690",
   "metadata": {},
   "source": [
    "# (vii) Implement a Python program to find the trimmed mean of a list, excluding a certain percentage of outliers"
   ]
  },
  {
   "cell_type": "code",
   "execution_count": 10,
   "id": "e64bf4b1",
   "metadata": {},
   "outputs": [
    {
     "name": "stdout",
     "output_type": "stream",
     "text": [
      "Trimmed Mean: 108.5\n"
     ]
    }
   ],
   "source": [
    "from scipy.stats import trim_mean\n",
    "\n",
    "def calculate_trimmed_mean(numbers, percentage):\n",
    "    return trim_mean(numbers, proportiontocut=percentage)\n",
    "\n",
    "# Example usage (e.g., trimming 10% from each end)\n",
    "trimmed_mean_value = calculate_trimmed_mean(int_list, 0.1)\n",
    "print(\"Trimmed Mean:\", trimmed_mean_value)\n"
   ]
  },
  {
   "cell_type": "markdown",
   "id": "692946ff",
   "metadata": {},
   "source": [
    "# 2. Generate a list of 500 integers containing values between 200 to 300 and store it in the variable int_list2. After generating the list, find the following:"
   ]
  },
  {
   "cell_type": "code",
   "execution_count": 12,
   "id": "0a32e134",
   "metadata": {},
   "outputs": [
    {
     "data": {
      "text/plain": [
       "[291,\n",
       " 234,\n",
       " 229,\n",
       " 225,\n",
       " 286,\n",
       " 287,\n",
       " 269,\n",
       " 252,\n",
       " 253,\n",
       " 287,\n",
       " 284,\n",
       " 294,\n",
       " 280,\n",
       " 207,\n",
       " 209,\n",
       " 203,\n",
       " 235,\n",
       " 245,\n",
       " 235,\n",
       " 229,\n",
       " 231,\n",
       " 277,\n",
       " 259,\n",
       " 218,\n",
       " 261,\n",
       " 219,\n",
       " 233,\n",
       " 232,\n",
       " 256,\n",
       " 241,\n",
       " 230,\n",
       " 286,\n",
       " 266,\n",
       " 201,\n",
       " 255,\n",
       " 201,\n",
       " 294,\n",
       " 300,\n",
       " 206,\n",
       " 244,\n",
       " 247,\n",
       " 278,\n",
       " 275,\n",
       " 278,\n",
       " 235,\n",
       " 235,\n",
       " 272,\n",
       " 236,\n",
       " 266,\n",
       " 285,\n",
       " 268,\n",
       " 223,\n",
       " 224,\n",
       " 298,\n",
       " 252,\n",
       " 270,\n",
       " 220,\n",
       " 234,\n",
       " 210,\n",
       " 277,\n",
       " 245,\n",
       " 269,\n",
       " 265,\n",
       " 288,\n",
       " 289,\n",
       " 295,\n",
       " 244,\n",
       " 244,\n",
       " 276,\n",
       " 226,\n",
       " 231,\n",
       " 288,\n",
       " 223,\n",
       " 294,\n",
       " 257,\n",
       " 286,\n",
       " 200,\n",
       " 290,\n",
       " 224,\n",
       " 296,\n",
       " 229,\n",
       " 233,\n",
       " 239,\n",
       " 247,\n",
       " 278,\n",
       " 270,\n",
       " 239,\n",
       " 235,\n",
       " 246,\n",
       " 286,\n",
       " 242,\n",
       " 285,\n",
       " 217,\n",
       " 284,\n",
       " 213,\n",
       " 273,\n",
       " 217,\n",
       " 280,\n",
       " 279,\n",
       " 291,\n",
       " 206,\n",
       " 248,\n",
       " 273,\n",
       " 218,\n",
       " 293,\n",
       " 268,\n",
       " 251,\n",
       " 290,\n",
       " 214,\n",
       " 203,\n",
       " 208,\n",
       " 264,\n",
       " 224,\n",
       " 283,\n",
       " 270,\n",
       " 269,\n",
       " 264,\n",
       " 277,\n",
       " 243,\n",
       " 300,\n",
       " 211,\n",
       " 286,\n",
       " 287,\n",
       " 258,\n",
       " 291,\n",
       " 298,\n",
       " 232,\n",
       " 251,\n",
       " 235,\n",
       " 256,\n",
       " 209,\n",
       " 286,\n",
       " 295,\n",
       " 282,\n",
       " 284,\n",
       " 211,\n",
       " 230,\n",
       " 299,\n",
       " 282,\n",
       " 254,\n",
       " 293,\n",
       " 221,\n",
       " 290,\n",
       " 238,\n",
       " 222,\n",
       " 293,\n",
       " 202,\n",
       " 201,\n",
       " 266,\n",
       " 230,\n",
       " 287,\n",
       " 222,\n",
       " 221,\n",
       " 295,\n",
       " 252,\n",
       " 260,\n",
       " 236,\n",
       " 237,\n",
       " 272,\n",
       " 285,\n",
       " 217,\n",
       " 291,\n",
       " 297,\n",
       " 277,\n",
       " 209,\n",
       " 274,\n",
       " 233,\n",
       " 296,\n",
       " 220,\n",
       " 225,\n",
       " 216,\n",
       " 243,\n",
       " 298,\n",
       " 295,\n",
       " 217,\n",
       " 215,\n",
       " 222,\n",
       " 231,\n",
       " 249,\n",
       " 300,\n",
       " 213,\n",
       " 209,\n",
       " 270,\n",
       " 273,\n",
       " 230,\n",
       " 282,\n",
       " 231,\n",
       " 237,\n",
       " 210,\n",
       " 202,\n",
       " 200,\n",
       " 278,\n",
       " 211,\n",
       " 240,\n",
       " 242,\n",
       " 224,\n",
       " 274,\n",
       " 298,\n",
       " 251,\n",
       " 211,\n",
       " 282,\n",
       " 291,\n",
       " 248,\n",
       " 204,\n",
       " 219,\n",
       " 287,\n",
       " 217,\n",
       " 256,\n",
       " 230,\n",
       " 268,\n",
       " 205,\n",
       " 287,\n",
       " 240,\n",
       " 277,\n",
       " 209,\n",
       " 265,\n",
       " 236,\n",
       " 284,\n",
       " 224,\n",
       " 246,\n",
       " 248,\n",
       " 294,\n",
       " 242,\n",
       " 236,\n",
       " 230,\n",
       " 207,\n",
       " 289,\n",
       " 280,\n",
       " 284,\n",
       " 262,\n",
       " 296,\n",
       " 223,\n",
       " 282,\n",
       " 263,\n",
       " 263,\n",
       " 298,\n",
       " 264,\n",
       " 221,\n",
       " 252,\n",
       " 291,\n",
       " 240,\n",
       " 296,\n",
       " 290,\n",
       " 288,\n",
       " 202,\n",
       " 239,\n",
       " 249,\n",
       " 282,\n",
       " 248,\n",
       " 225,\n",
       " 232,\n",
       " 258,\n",
       " 226,\n",
       " 267,\n",
       " 235,\n",
       " 214,\n",
       " 223,\n",
       " 226,\n",
       " 290,\n",
       " 204,\n",
       " 226,\n",
       " 286,\n",
       " 205,\n",
       " 252,\n",
       " 295,\n",
       " 287,\n",
       " 217,\n",
       " 248,\n",
       " 271,\n",
       " 256,\n",
       " 209,\n",
       " 260,\n",
       " 286,\n",
       " 227,\n",
       " 256,\n",
       " 266,\n",
       " 279,\n",
       " 246,\n",
       " 295,\n",
       " 219,\n",
       " 233,\n",
       " 269,\n",
       " 296,\n",
       " 290,\n",
       " 223,\n",
       " 282,\n",
       " 227,\n",
       " 201,\n",
       " 284,\n",
       " 252,\n",
       " 233,\n",
       " 268,\n",
       " 202,\n",
       " 224,\n",
       " 253,\n",
       " 216,\n",
       " 211,\n",
       " 277,\n",
       " 296,\n",
       " 218,\n",
       " 211,\n",
       " 202,\n",
       " 242,\n",
       " 206,\n",
       " 215,\n",
       " 205,\n",
       " 207,\n",
       " 213,\n",
       " 210,\n",
       " 210,\n",
       " 260,\n",
       " 245,\n",
       " 241,\n",
       " 253,\n",
       " 283,\n",
       " 261,\n",
       " 207,\n",
       " 207,\n",
       " 272,\n",
       " 231,\n",
       " 289,\n",
       " 273,\n",
       " 234,\n",
       " 219,\n",
       " 216,\n",
       " 217,\n",
       " 246,\n",
       " 226,\n",
       " 201,\n",
       " 203,\n",
       " 290,\n",
       " 270,\n",
       " 249,\n",
       " 223,\n",
       " 257,\n",
       " 279,\n",
       " 228,\n",
       " 299,\n",
       " 234,\n",
       " 251,\n",
       " 247,\n",
       " 264,\n",
       " 248,\n",
       " 261,\n",
       " 228,\n",
       " 281,\n",
       " 293,\n",
       " 287,\n",
       " 286,\n",
       " 284,\n",
       " 286,\n",
       " 267,\n",
       " 220,\n",
       " 255,\n",
       " 242,\n",
       " 238,\n",
       " 254,\n",
       " 268,\n",
       " 272,\n",
       " 260,\n",
       " 237,\n",
       " 205,\n",
       " 232,\n",
       " 279,\n",
       " 298,\n",
       " 281,\n",
       " 200,\n",
       " 282,\n",
       " 209,\n",
       " 204,\n",
       " 286,\n",
       " 213,\n",
       " 285,\n",
       " 283,\n",
       " 223,\n",
       " 212,\n",
       " 237,\n",
       " 201,\n",
       " 229,\n",
       " 215,\n",
       " 243,\n",
       " 217,\n",
       " 257,\n",
       " 214,\n",
       " 266,\n",
       " 208,\n",
       " 276,\n",
       " 269,\n",
       " 230,\n",
       " 231,\n",
       " 203,\n",
       " 291,\n",
       " 219,\n",
       " 227,\n",
       " 200,\n",
       " 234,\n",
       " 284,\n",
       " 259,\n",
       " 290,\n",
       " 290,\n",
       " 277,\n",
       " 293,\n",
       " 280,\n",
       " 280,\n",
       " 233,\n",
       " 233,\n",
       " 221,\n",
       " 220,\n",
       " 230,\n",
       " 215,\n",
       " 213,\n",
       " 255,\n",
       " 211,\n",
       " 225,\n",
       " 238,\n",
       " 207,\n",
       " 203,\n",
       " 205,\n",
       " 298,\n",
       " 250,\n",
       " 202,\n",
       " 255,\n",
       " 241,\n",
       " 203,\n",
       " 298,\n",
       " 252,\n",
       " 257,\n",
       " 258,\n",
       " 282,\n",
       " 274,\n",
       " 243,\n",
       " 236,\n",
       " 257,\n",
       " 230,\n",
       " 259,\n",
       " 276,\n",
       " 251,\n",
       " 294,\n",
       " 222,\n",
       " 206,\n",
       " 209,\n",
       " 281,\n",
       " 275,\n",
       " 215,\n",
       " 256,\n",
       " 271,\n",
       " 227,\n",
       " 217,\n",
       " 202,\n",
       " 267,\n",
       " 298,\n",
       " 275,\n",
       " 224,\n",
       " 221,\n",
       " 264,\n",
       " 294,\n",
       " 216,\n",
       " 293,\n",
       " 272,\n",
       " 290,\n",
       " 298,\n",
       " 297,\n",
       " 215,\n",
       " 220,\n",
       " 222,\n",
       " 248,\n",
       " 204,\n",
       " 284,\n",
       " 228,\n",
       " 292,\n",
       " 213,\n",
       " 293,\n",
       " 251,\n",
       " 232,\n",
       " 261,\n",
       " 234,\n",
       " 279,\n",
       " 261,\n",
       " 250,\n",
       " 297,\n",
       " 274,\n",
       " 277,\n",
       " 284,\n",
       " 207,\n",
       " 265,\n",
       " 220,\n",
       " 265,\n",
       " 278,\n",
       " 212,\n",
       " 293,\n",
       " 232,\n",
       " 271,\n",
       " 219,\n",
       " 278,\n",
       " 223,\n",
       " 218,\n",
       " 271,\n",
       " 262,\n",
       " 264,\n",
       " 218]"
      ]
     },
     "execution_count": 12,
     "metadata": {},
     "output_type": "execute_result"
    }
   ],
   "source": [
    "import random\n",
    "\n",
    "# Generating the list of 500 integers between 200 and 300\n",
    "int_list2 = [random.randint(200, 300) for _ in range(500)]\n",
    "int_list2\n"
   ]
  },
  {
   "cell_type": "markdown",
   "id": "c95da18c",
   "metadata": {},
   "source": [
    "# (i) Compare the given list of visualization for the given data:1. Frequency & Gaussian distribution"
   ]
  },
  {
   "cell_type": "code",
   "execution_count": 13,
   "id": "25393ae5",
   "metadata": {},
   "outputs": [
    {
     "data": {
      "image/png": "[encoded data removed]",
      "text/plain": [
       "<Figure size 1000x600 with 1 Axes>"
      ]
     },
     "metadata": {},
     "output_type": "display_data"
    }
   ],
   "source": [
    "import matplotlib.pyplot as plt\n",
    "import numpy as np\n",
    "import seaborn as sns\n",
    "\n",
    "# Frequency Distribution (Histogram)\n",
    "plt.figure(figsize=(10, 6))\n",
    "plt.hist(int_list2, bins=20, color='blue', alpha=0.7, label='Frequency')\n",
    "\n",
    "# Gaussian Distribution\n",
    "mean = np.mean(int_list2)\n",
    "std_dev = np.std(int_list2)\n",
    "x = np.linspace(min(int_list2), max(int_list2), 100)\n",
    "gaussian = (1 / (std_dev * np.sqrt(2 * np.pi))) * np.exp(-0.5 * ((x - mean) / std_dev) ** 2)\n",
    "plt.plot(x, gaussian * 100, color='red', label='Gaussian Distribution')\n",
    "\n",
    "plt.legend()\n",
    "plt.title('Frequency & Gaussian Distribution')\n",
    "plt.xlabel('Values')\n",
    "plt.ylabel('Frequency')\n",
    "plt.show()\n"
   ]
  },
  {
   "cell_type": "markdown",
   "id": "c3916cd8",
   "metadata": {},
   "source": [
    "#     2. Frequency smoothened KDE plot"
   ]
  },
  {
   "cell_type": "code",
   "execution_count": 14,
   "id": "e8046b88",
   "metadata": {},
   "outputs": [
    {
     "data": {
      "image/png": "[encoded data removed]",
      "text/plain": [
       "<Figure size 1000x600 with 1 Axes>"
      ]
     },
     "metadata": {},
     "output_type": "display_data"
    }
   ],
   "source": [
    "# Frequency Distribution (Histogram) with KDE Plot\n",
    "plt.figure(figsize=(10, 6))\n",
    "sns.histplot(int_list2, bins=20, kde=True, color='blue', alpha=0.7)\n",
    "\n",
    "plt.title('Frequency Distribution with KDE Plot')\n",
    "plt.xlabel('Values')\n",
    "plt.ylabel('Density')\n",
    "plt.show()\n"
   ]
  },
  {
   "cell_type": "markdown",
   "id": "0ae6ae59",
   "metadata": {},
   "source": [
    "# 3. Gaussian distribution & smoothened KDE plot"
   ]
  },
  {
   "cell_type": "code",
   "execution_count": 15,
   "id": "0895b108",
   "metadata": {},
   "outputs": [
    {
     "data": {
      "image/png": "[encoded data removed]",
      "text/plain": [
       "<Figure size 1000x600 with 1 Axes>"
      ]
     },
     "metadata": {},
     "output_type": "display_data"
    }
   ],
   "source": [
    "# Gaussian Distribution & KDE Plot\n",
    "plt.figure(figsize=(10, 6))\n",
    "sns.kdeplot(int_list2, color='blue', label='KDE Plot')\n",
    "\n",
    "mean = np.mean(int_list2)\n",
    "std_dev = np.std(int_list2)\n",
    "x = np.linspace(min(int_list2), max(int_list2), 100)\n",
    "gaussian = (1 / (std_dev * np.sqrt(2 * np.pi))) * np.exp(-0.5 * ((x - mean) / std_dev) ** 2)\n",
    "plt.plot(x, gaussian, color='red', label='Gaussian Distribution')\n",
    "\n",
    "plt.legend()\n",
    "plt.title('Gaussian Distribution & KDE Plot')\n",
    "plt.xlabel('Values')\n",
    "plt.ylabel('Density')\n",
    "plt.show()\n"
   ]
  },
  {
   "cell_type": "markdown",
   "id": "b9a0f791",
   "metadata": {},
   "source": [
    "# (ii) Write a Python function to calculate the range of a given list of numbers."
   ]
  },
  {
   "cell_type": "code",
   "execution_count": 16,
   "id": "ca5e4f0f",
   "metadata": {},
   "outputs": [
    {
     "name": "stdout",
     "output_type": "stream",
     "text": [
      "Range: 100\n"
     ]
    }
   ],
   "source": [
    "def calculate_range(numbers):\n",
    "    return max(numbers) - min(numbers)\n",
    "\n",
    "# Example usage\n",
    "range_value = calculate_range(int_list2)\n",
    "print(\"Range:\", range_value)\n"
   ]
  },
  {
   "cell_type": "markdown",
   "id": "6a3e4832",
   "metadata": {},
   "source": [
    "#  (iii) Create a program to find the variance and standard deviation of a list of numbers."
   ]
  },
  {
   "cell_type": "code",
   "execution_count": 17,
   "id": "e8f14968",
   "metadata": {},
   "outputs": [
    {
     "name": "stdout",
     "output_type": "stream",
     "text": [
      "Variance: 917.9810039999996\n",
      "Standard Deviation: 30.298201332752406\n"
     ]
    }
   ],
   "source": [
    "def calculate_variance(numbers):\n",
    "    mean = sum(numbers) / len(numbers)\n",
    "    variance = sum((x - mean) ** 2 for x in numbers) / len(numbers)\n",
    "    return variance\n",
    "\n",
    "def calculate_standard_deviation(numbers):\n",
    "    variance = calculate_variance(numbers)\n",
    "    return variance ** 0.5\n",
    "\n",
    "# Example usage\n",
    "variance_value = calculate_variance(int_list2)\n",
    "std_dev_value = calculate_standard_deviation(int_list2)\n",
    "print(\"Variance:\", variance_value)\n",
    "print(\"Standard Deviation:\", std_dev_value)\n"
   ]
  },
  {
   "cell_type": "markdown",
   "id": "2eec1085",
   "metadata": {},
   "source": [
    "#  (iv) Implement a function to compute the interquartile range (IQR) of a list of values."
   ]
  },
  {
   "cell_type": "code",
   "execution_count": 18,
   "id": "78bb3742",
   "metadata": {},
   "outputs": [
    {
     "name": "stdout",
     "output_type": "stream",
     "text": [
      "Interquartile Range (IQR): 56.0\n"
     ]
    }
   ],
   "source": [
    "def calculate_iqr(numbers):\n",
    "    sorted_numbers = sorted(numbers)\n",
    "    q1 = np.percentile(sorted_numbers, 25)\n",
    "    q3 = np.percentile(sorted_numbers, 75)\n",
    "    return q3 - q1\n",
    "\n",
    "# Example usage\n",
    "iqr_value = calculate_iqr(int_list2)\n",
    "print(\"Interquartile Range (IQR):\", iqr_value)\n"
   ]
  },
  {
   "cell_type": "markdown",
   "id": "5757b8f1",
   "metadata": {},
   "source": [
    "#  (v) Build a program to calculate the coefficient of variation for a dataset."
   ]
  },
  {
   "cell_type": "code",
   "execution_count": 19,
   "id": "e71ceb8c",
   "metadata": {},
   "outputs": [
    {
     "name": "stdout",
     "output_type": "stream",
     "text": [
      "Coefficient of Variation: 12.113756660063974\n"
     ]
    }
   ],
   "source": [
    "def calculate_coefficient_of_variation(numbers):\n",
    "    mean = sum(numbers) / len(numbers)\n",
    "    std_dev = calculate_standard_deviation(numbers)\n",
    "    return (std_dev / mean) * 100\n",
    "\n",
    "# Example usage\n",
    "cv_value = calculate_coefficient_of_variation(int_list2)\n",
    "print(\"Coefficient of Variation:\", cv_value)\n"
   ]
  },
  {
   "cell_type": "markdown",
   "id": "7ab82d5f",
   "metadata": {},
   "source": [
    "# (vi) Write a Python function to find the mean absolute deviation (MAD) of a list of numbers."
   ]
  },
  {
   "cell_type": "code",
   "execution_count": 20,
   "id": "8be79364",
   "metadata": {},
   "outputs": [
    {
     "name": "stdout",
     "output_type": "stream",
     "text": [
      "Mean Absolute Deviation (MAD): 26.818911999999987\n"
     ]
    }
   ],
   "source": [
    "def calculate_mad(numbers):\n",
    "    mean = sum(numbers) / len(numbers)\n",
    "    mad = sum(abs(x - mean) for x in numbers) / len(numbers)\n",
    "    return mad\n",
    "\n",
    "# Example usage\n",
    "mad_value = calculate_mad(int_list2)\n",
    "print(\"Mean Absolute Deviation (MAD):\", mad_value)\n"
   ]
  },
  {
   "cell_type": "markdown",
   "id": "5429db38",
   "metadata": {},
   "source": [
    "# (vii) Create a program to calculate the quartile deviation of a list of values"
   ]
  },
  {
   "cell_type": "code",
   "execution_count": 21,
   "id": "01cabed7",
   "metadata": {},
   "outputs": [
    {
     "name": "stdout",
     "output_type": "stream",
     "text": [
      "Quartile Deviation: 28.0\n"
     ]
    }
   ],
   "source": [
    "def calculate_quartile_deviation(numbers):\n",
    "    sorted_numbers = sorted(numbers)\n",
    "    q1 = np.percentile(sorted_numbers, 25)\n",
    "    q3 = np.percentile(sorted_numbers, 75)\n",
    "    return (q3 - q1) / 2\n",
    "\n",
    "# Example usage\n",
    "quartile_deviation_value = calculate_quartile_deviation(int_list2)\n",
    "print(\"Quartile Deviation:\", quartile_deviation_value)\n"
   ]
  },
  {
   "cell_type": "markdown",
   "id": "82e6215d",
   "metadata": {},
   "source": [
    "#  (viii) Implement a function to find the range-based coefficient of dispersion for a dataset"
   ]
  },
  {
   "cell_type": "code",
   "execution_count": 22,
   "id": "7604e0c4",
   "metadata": {},
   "outputs": [
    {
     "name": "stdout",
     "output_type": "stream",
     "text": [
      "Range-Based Coefficient of Dispersion: 39.98176831364898\n"
     ]
    }
   ],
   "source": [
    "def calculate_range_coefficient_of_dispersion(numbers):\n",
    "    range_value = calculate_range(numbers)\n",
    "    mean = sum(numbers) / len(numbers)\n",
    "    return (range_value / mean) * 100\n",
    "\n",
    "# Example usage\n",
    "range_cod_value = calculate_range_coefficient_of_dispersion(int_list2)\n",
    "print(\"Range-Based Coefficient of Dispersion:\", range_cod_value)\n"
   ]
  },
  {
   "cell_type": "markdown",
   "id": "5bfb6bce",
   "metadata": {},
   "source": [
    "# 3. Write a Python class representing a discrete random variable with methods to calculate its expected value and variance."
   ]
  },
  {
   "cell_type": "code",
   "execution_count": 23,
   "id": "43277c6f",
   "metadata": {},
   "outputs": [
    {
     "name": "stdout",
     "output_type": "stream",
     "text": [
      "Expected Value: 3.2\n",
      "Variance: 1.56\n"
     ]
    }
   ],
   "source": [
    "class DiscreteRandomVariable:\n",
    "    def __init__(self, values, probabilities):\n",
    "        \"\"\"\n",
    "        Initializes the discrete random variable with given values and their corresponding probabilities.\n",
    "        \n",
    "        :param values: A list of possible values for the random variable.\n",
    "        :param probabilities: A list of corresponding probabilities for each value.\n",
    "        \"\"\"\n",
    "        self.values = values\n",
    "        self.probabilities = probabilities\n",
    "        \n",
    "        # Check if the probabilities sum to 1\n",
    "        if not abs(sum(probabilities) - 1) < 1e-9:\n",
    "            raise ValueError(\"The sum of probabilities must be 1.\")\n",
    "    \n",
    "    def expected_value(self):\n",
    "        \"\"\"\n",
    "        Calculates the expected value (mean) of the discrete random variable.\n",
    "        \n",
    "        :return: The expected value.\n",
    "        \"\"\"\n",
    "        expected_val = sum(value * prob for value, prob in zip(self.values, self.probabilities))\n",
    "        return expected_val\n",
    "    \n",
    "    def variance(self):\n",
    "        \"\"\"\n",
    "        Calculates the variance of the discrete random variable.\n",
    "        \n",
    "        :return: The variance.\n",
    "        \"\"\"\n",
    "        mean = self.expected_value()\n",
    "        variance_val = sum(prob * (value - mean) ** 2 for value, prob in zip(self.values, self.probabilities))\n",
    "        return variance_val\n",
    "\n",
    "# Example usage\n",
    "values = [1, 2, 3, 4, 5]\n",
    "probabilities = [0.1, 0.2, 0.3, 0.2, 0.2]\n",
    "\n",
    "random_var = DiscreteRandomVariable(values, probabilities)\n",
    "print(\"Expected Value:\", random_var.expected_value())\n",
    "print(\"Variance:\", random_var.variance())\n"
   ]
  },
  {
   "cell_type": "markdown",
   "id": "f1385795",
   "metadata": {},
   "source": [
    "# 4. Implement a program to simulate the rolling of a fair six-sided die and calculate the expected value and variance of the outcomes."
   ]
  },
  {
   "cell_type": "code",
   "execution_count": 24,
   "id": "e4d2b22a",
   "metadata": {},
   "outputs": [
    {
     "name": "stdout",
     "output_type": "stream",
     "text": [
      "Outcomes of the rolls: [1, 5, 6, 3, 6, 5, 5, 3, 3, 5, 3, 5, 4, 3, 6, 2, 4, 2, 3, 4, 4, 3, 1, 4, 4, 1, 4, 5, 3, 2, 2, 6, 2, 4, 2, 2, 6, 1, 6, 2, 3, 1, 3, 3, 1, 4, 6, 5, 2, 4, 3, 6, 1, 3, 2, 5, 5, 1, 4, 4, 5, 4, 2, 3, 6, 1, 4, 2, 4, 3, 2, 5, 2, 4, 2, 1, 2, 3, 3, 3, 2, 1, 4, 2, 2, 3, 3, 4, 1, 1, 4, 3, 2, 2, 2, 1, 1, 5, 1, 5, 2, 1, 2, 5, 2, 5, 1, 5, 5, 4, 6, 3, 6, 4, 4, 1, 3, 6, 5, 1, 2, 4, 5, 2, 5, 6, 1, 1, 4, 3, 1, 2, 5, 3, 2, 4, 4, 5, 1, 1, 3, 6, 6, 1, 2, 1, 4, 2, 6, 5, 2, 3, 3, 6, 2, 1, 1, 1, 6, 2, 4, 5, 6, 6, 4, 1, 4, 4, 6, 6, 2, 1, 6, 1, 3, 2, 2, 3, 1, 5, 5, 3, 6, 2, 2, 1, 5, 3, 3, 3, 6, 1, 2, 4, 2, 2, 6, 1, 3, 5, 5, 3, 1, 2, 5, 3, 4, 5, 1, 6, 4, 3, 2, 6, 2, 4, 3, 1, 1, 1, 1, 6, 4, 1, 1, 3, 1, 5, 1, 2, 1, 4, 6, 4, 3, 2, 3, 4, 6, 3, 3, 1, 2, 1, 3, 2, 1, 6, 4, 6, 2, 5, 5, 5, 5, 2, 1, 5, 6, 3, 4, 2, 6, 1, 3, 4, 4, 5, 6, 5, 4, 1, 2, 6, 2, 3, 3, 2, 1, 5, 6, 5, 1, 5, 3, 6, 3, 2, 3, 1, 2, 5, 6, 3, 1, 4, 2, 3, 1, 6, 5, 5, 5, 4, 1, 2, 3, 1, 5, 2, 6, 6, 2, 1, 2, 6, 6, 6, 2, 2, 1, 6, 1, 2, 2, 1, 6, 2, 6, 6, 2, 5, 1, 3, 1, 6, 3, 3, 4, 6, 1, 5, 3, 5, 6, 3, 4, 6, 5, 1, 4, 4, 5, 2, 4, 5, 4, 4, 4, 2, 2, 5, 6, 3, 1, 3, 3, 2, 4, 1, 4, 4, 3, 1, 3, 3, 4, 5, 6, 4, 4, 5, 3, 3, 4, 4, 2, 6, 6, 2, 1, 5, 4, 4, 6, 3, 6, 4, 1, 1, 3, 3, 4, 5, 4, 1, 2, 5, 2, 3, 4, 3, 5, 3, 4, 1, 6, 6, 4, 1, 6, 2, 2, 1, 5, 1, 4, 2, 2, 3, 2, 1, 4, 5, 1, 2, 5, 5, 5, 3, 2, 3, 6, 5, 3, 1, 5, 1, 2, 1, 6, 6, 1, 2, 6, 5, 6, 6, 1, 1, 3, 5, 6, 1, 3, 3, 4, 5, 5, 3, 5, 2, 1, 4, 5, 3, 1, 4, 2, 2, 3, 6, 3, 1, 5, 5, 3, 4, 3, 5, 4, 5, 2, 3, 3, 2, 6, 3, 4, 1, 3, 2, 2, 6, 4, 5, 3, 4, 2, 4, 3, 6, 3, 2, 3, 5, 3, 5, 1, 6, 1, 4, 1, 6, 5, 1, 1, 4, 1, 1, 2, 6, 1, 5, 3, 4, 3, 1, 3, 2, 4, 5, 3, 1, 2, 2, 4, 2, 5, 4, 6, 5, 2, 1, 3, 1, 2, 6, 2, 2, 6, 4, 2, 5, 5, 1, 4, 6, 1, 6, 2, 1, 1, 2, 4, 6, 3, 5, 3, 5, 1, 3, 4, 1, 1, 4, 3, 1, 3, 4, 3, 3, 3, 5, 5, 1, 2, 3, 3, 2, 5, 2, 6, 1, 1, 3, 5, 6, 2, 3, 1, 4, 2, 1, 3, 5, 1, 1, 2, 2, 5, 1, 6, 6, 5, 3, 2, 2, 6, 6, 6, 2, 5, 5, 6, 2, 5, 5, 1, 2, 4, 1, 3, 1, 2, 6, 4, 1, 6, 6, 6, 4, 1, 2, 2, 4, 4, 3, 5, 1, 5, 1, 3, 1, 5, 1, 5, 1, 1, 4, 6, 5, 4, 1, 4, 5, 4, 3, 1, 1, 6, 5, 2, 1, 3, 5, 3, 6, 5, 3, 4, 4, 4, 6, 2, 5, 4, 5, 2, 4, 3, 4, 5, 6, 6, 3, 2, 1, 6, 2, 2, 5, 1, 6, 1, 4, 2, 3, 5, 6, 6, 3, 4, 4, 2, 6, 4, 2, 2, 5, 1, 4, 3, 4, 2, 1, 2, 3, 3, 3, 1, 6, 1, 3, 3, 5, 4, 5, 1, 1, 3, 2, 1, 3, 6, 3, 2, 4, 2, 1, 1, 6, 6, 5, 4, 3, 2, 4, 1, 3, 6, 6, 6, 6, 6, 2, 2, 2, 5, 4, 3, 1, 3, 5, 5, 5, 5, 6, 6, 3, 5, 1, 2, 6, 5, 1, 2, 1, 3, 4, 3, 6, 4, 3, 1, 2, 4, 2, 2, 4, 6, 2, 4, 6, 6, 3, 5, 6, 2, 6, 6, 5, 4, 6, 5, 2, 3, 5, 3, 3, 6, 2, 3, 2, 4, 1, 3, 1, 2, 2, 5, 1, 6, 5, 4, 4, 6, 3, 5, 3, 4, 6, 2, 4, 6, 5, 2, 1, 1, 2, 2, 2, 1, 6, 4, 4, 3, 5, 1, 4, 6, 6, 3, 6, 2, 1, 2, 3, 5, 1, 4, 6, 5, 3, 1, 2, 4, 3, 1, 3, 3, 3, 2, 1, 1, 5, 3, 5, 4, 3, 5, 1, 4, 5, 4, 3, 2, 1, 1, 4, 2, 2, 4, 5, 6, 3, 4, 3, 6, 1, 3, 6, 6, 2, 5, 1, 3, 2, 6, 4, 2, 5, 5, 5, 2, 5, 1, 3, 2, 4, 2, 1, 4, 5, 5, 4, 6, 3, 1, 1, 4, 6, 2, 3, 6, 1, 5, 2, 6, 4, 1, 3, 3, 6, 2, 4, 3, 3, 4, 2, 2, 5, 5, 3, 2, 5, 2, 4, 6, 5, 4, 6, 1, 6, 6, 5, 5, 5, 5, 6, 4, 1, 5, 2, 5, 4, 6, 6, 5, 4]\n",
      "Expected Value: 3.5\n",
      "Variance: 2.9166666666666665\n"
     ]
    }
   ],
   "source": [
    "import random\n",
    "\n",
    "class DieSimulation:\n",
    "    def __init__(self, num_rolls):\n",
    "        \"\"\"\n",
    "        Initializes the die simulation with the number of rolls.\n",
    "        \n",
    "        :param num_rolls: Number of times to roll the die.\n",
    "        \"\"\"\n",
    "        self.num_rolls = num_rolls\n",
    "        self.outcomes = []\n",
    "        self.values = [1, 2, 3, 4, 5, 6]\n",
    "        self.probabilities = [1/6] * 6  # Since it's a fair die, each outcome has a probability of 1/6\n",
    "    \n",
    "    def roll_die(self):\n",
    "        \"\"\"\n",
    "        Simulates rolling the die `num_rolls` times.\n",
    "        \"\"\"\n",
    "        self.outcomes = [random.choice(self.values) for _ in range(self.num_rolls)]\n",
    "    \n",
    "    def expected_value(self):\n",
    "        \"\"\"\n",
    "        Calculates the expected value (mean) of the die rolls.\n",
    "        \n",
    "        :return: The expected value.\n",
    "        \"\"\"\n",
    "        return sum(self.values[i] * self.probabilities[i] for i in range(6))\n",
    "    \n",
    "    def variance(self):\n",
    "        \"\"\"\n",
    "        Calculates the variance of the die rolls.\n",
    "        \n",
    "        :return: The variance.\n",
    "        \"\"\"\n",
    "        mean = self.expected_value()\n",
    "        return sum(self.probabilities[i] * (self.values[i] - mean) ** 2 for i in range(6))\n",
    "    \n",
    "    def simulate(self):\n",
    "        \"\"\"\n",
    "        Runs the die simulation and prints the expected value and variance.\n",
    "        \"\"\"\n",
    "        self.roll_die()\n",
    "        print(\"Outcomes of the rolls:\", self.outcomes)\n",
    "        print(\"Expected Value:\", self.expected_value())\n",
    "        print(\"Variance:\", self.variance())\n",
    "\n",
    "# Example usage\n",
    "num_rolls = 1000  # Number of times to roll the die\n",
    "die_simulation = DieSimulation(num_rolls)\n",
    "die_simulation.simulate()\n"
   ]
  },
  {
   "cell_type": "markdown",
   "id": "646386bd",
   "metadata": {},
   "source": [
    "# 5.Create a Python function to generate random samples from a given probability distribution (e.g., binomial, Poisson) and calculate their mean and variance."
   ]
  },
  {
   "cell_type": "code",
   "execution_count": 25,
   "id": "f84ef3c4",
   "metadata": {},
   "outputs": [
    {
     "name": "stdout",
     "output_type": "stream",
     "text": [
      "Binomial Distribution - Mean: 5.003 Variance: 2.5269909999999993\n",
      "Poisson Distribution - Mean: 4.124 Variance: 4.172624\n"
     ]
    }
   ],
   "source": [
    "import numpy as np\n",
    "\n",
    "def generate_samples(distribution_type, params, num_samples=1000):\n",
    "    \"\"\"\n",
    "    Generates random samples from a given probability distribution and calculates their mean and variance.\n",
    "    \n",
    "    :param distribution_type: The type of probability distribution ('binomial', 'poisson', etc.).\n",
    "    :param params: Parameters required for the distribution (tuple).\n",
    "    :param num_samples: The number of random samples to generate (default is 1000).\n",
    "    :return: A tuple containing the mean and variance of the generated samples.\n",
    "    \"\"\"\n",
    "    if distribution_type == 'binomial':\n",
    "        n, p = params\n",
    "        samples = np.random.binomial(n, p, num_samples)\n",
    "    elif distribution_type == 'poisson':\n",
    "        lam = params[0]\n",
    "        samples = np.random.poisson(lam, num_samples)\n",
    "    else:\n",
    "        raise ValueError(\"Unsupported distribution type. Supported types: 'binomial', 'poisson'.\")\n",
    "    \n",
    "    mean = np.mean(samples)\n",
    "    variance = np.var(samples)\n",
    "    \n",
    "    return mean, variance\n",
    "\n",
    "# Example usage\n",
    "# Generate 1000 samples from a binomial distribution with n=10 and p=0.5\n",
    "mean_binomial, variance_binomial = generate_samples('binomial', (10, 0.5))\n",
    "print(\"Binomial Distribution - Mean:\", mean_binomial, \"Variance:\", variance_binomial)\n",
    "\n",
    "# Generate 1000 samples from a Poisson distribution with lambda=4\n",
    "mean_poisson, variance_poisson = generate_samples('poisson', (4,))\n",
    "print(\"Poisson Distribution - Mean:\", mean_poisson, \"Variance:\", variance_poisson)\n"
   ]
  },
  {
   "cell_type": "markdown",
   "id": "252d322f",
   "metadata": {},
   "source": [
    "# 6. Write a Python script to generate random numbers from a Gaussian (normal) distribution and compute the mean, variance, and standard deviation of the samples"
   ]
  },
  {
   "cell_type": "code",
   "execution_count": 26,
   "id": "1796e833",
   "metadata": {},
   "outputs": [
    {
     "name": "stdout",
     "output_type": "stream",
     "text": [
      "Generated Samples Statistics:\n",
      "Mean: -0.008170025713820592\n",
      "Variance: 1.0805006941302864\n",
      "Standard Deviation: 1.0394713532032935\n"
     ]
    }
   ],
   "source": [
    "import numpy as np\n",
    "\n",
    "def gaussian_statistics(mean, std_dev, num_samples=1000):\n",
    "    \"\"\"\n",
    "    Generates random numbers from a Gaussian (normal) distribution and computes the mean, variance, \n",
    "    and standard deviation of the samples.\n",
    "    \n",
    "    :param mean: The mean (μ) of the Gaussian distribution.\n",
    "    :param std_dev: The standard deviation (σ) of the Gaussian distribution.\n",
    "    :param num_samples: The number of random samples to generate (default is 1000).\n",
    "    :return: A dictionary containing the computed mean, variance, and standard deviation of the samples.\n",
    "    \"\"\"\n",
    "    # Generate random samples from a Gaussian distribution\n",
    "    samples = np.random.normal(loc=mean, scale=std_dev, size=num_samples)\n",
    "    \n",
    "    # Calculate the sample mean\n",
    "    sample_mean = np.mean(samples)\n",
    "    \n",
    "    # Calculate the sample variance\n",
    "    sample_variance = np.var(samples)\n",
    "    \n",
    "    # Calculate the sample standard deviation\n",
    "    sample_std_dev = np.std(samples)\n",
    "    \n",
    "    # Return the results as a dictionary\n",
    "    return {\n",
    "        'Sample Mean': sample_mean,\n",
    "        'Sample Variance': sample_variance,\n",
    "        'Sample Standard Deviation': sample_std_dev\n",
    "    }\n",
    "\n",
    "# Example usage\n",
    "mean = 0  # Mean of the distribution\n",
    "std_dev = 1  # Standard deviation of the distribution\n",
    "num_samples = 1000  # Number of samples to generate\n",
    "\n",
    "stats = gaussian_statistics(mean, std_dev, num_samples)\n",
    "print(\"Generated Samples Statistics:\")\n",
    "print(\"Mean:\", stats['Sample Mean'])\n",
    "print(\"Variance:\", stats['Sample Variance'])\n",
    "print(\"Standard Deviation:\", stats['Sample Standard Deviation'])\n"
   ]
  },
  {
   "cell_type": "markdown",
   "id": "9841261a",
   "metadata": {},
   "source": [
    "# 7. Use seaborn library to load tips dataset. Find the following from the dataset for the columns total_bill and tip:"
   ]
  },
  {
   "cell_type": "code",
   "execution_count": 27,
   "id": "64b0c4e2",
   "metadata": {},
   "outputs": [
    {
     "data": {
      "text/html": [
       "<div>\n",
       "<style scoped>\n",
       "    .dataframe tbody tr th:only-of-type {\n",
       "        vertical-align: middle;\n",
       "    }\n",
       "\n",
       "    .dataframe tbody tr th {\n",
       "        vertical-align: top;\n",
       "    }\n",
       "\n",
       "    .dataframe thead th {\n",
       "        text-align: right;\n",
       "    }\n",
       "</style>\n",
       "<table border=\"1\" class=\"dataframe\">\n",
       "  <thead>\n",
       "    <tr style=\"text-align: right;\">\n",
       "      <th></th>\n",
       "      <th>total_bill</th>\n",
       "      <th>tip</th>\n",
       "      <th>sex</th>\n",
       "      <th>smoker</th>\n",
       "      <th>day</th>\n",
       "      <th>time</th>\n",
       "      <th>size</th>\n",
       "    </tr>\n",
       "  </thead>\n",
       "  <tbody>\n",
       "    <tr>\n",
       "      <th>0</th>\n",
       "      <td>16.99</td>\n",
       "      <td>1.01</td>\n",
       "      <td>Female</td>\n",
       "      <td>No</td>\n",
       "      <td>Sun</td>\n",
       "      <td>Dinner</td>\n",
       "      <td>2</td>\n",
       "    </tr>\n",
       "    <tr>\n",
       "      <th>1</th>\n",
       "      <td>10.34</td>\n",
       "      <td>1.66</td>\n",
       "      <td>Male</td>\n",
       "      <td>No</td>\n",
       "      <td>Sun</td>\n",
       "      <td>Dinner</td>\n",
       "      <td>3</td>\n",
       "    </tr>\n",
       "    <tr>\n",
       "      <th>2</th>\n",
       "      <td>21.01</td>\n",
       "      <td>3.50</td>\n",
       "      <td>Male</td>\n",
       "      <td>No</td>\n",
       "      <td>Sun</td>\n",
       "      <td>Dinner</td>\n",
       "      <td>3</td>\n",
       "    </tr>\n",
       "    <tr>\n",
       "      <th>3</th>\n",
       "      <td>23.68</td>\n",
       "      <td>3.31</td>\n",
       "      <td>Male</td>\n",
       "      <td>No</td>\n",
       "      <td>Sun</td>\n",
       "      <td>Dinner</td>\n",
       "      <td>2</td>\n",
       "    </tr>\n",
       "    <tr>\n",
       "      <th>4</th>\n",
       "      <td>24.59</td>\n",
       "      <td>3.61</td>\n",
       "      <td>Female</td>\n",
       "      <td>No</td>\n",
       "      <td>Sun</td>\n",
       "      <td>Dinner</td>\n",
       "      <td>4</td>\n",
       "    </tr>\n",
       "    <tr>\n",
       "      <th>...</th>\n",
       "      <td>...</td>\n",
       "      <td>...</td>\n",
       "      <td>...</td>\n",
       "      <td>...</td>\n",
       "      <td>...</td>\n",
       "      <td>...</td>\n",
       "      <td>...</td>\n",
       "    </tr>\n",
       "    <tr>\n",
       "      <th>239</th>\n",
       "      <td>29.03</td>\n",
       "      <td>5.92</td>\n",
       "      <td>Male</td>\n",
       "      <td>No</td>\n",
       "      <td>Sat</td>\n",
       "      <td>Dinner</td>\n",
       "      <td>3</td>\n",
       "    </tr>\n",
       "    <tr>\n",
       "      <th>240</th>\n",
       "      <td>27.18</td>\n",
       "      <td>2.00</td>\n",
       "      <td>Female</td>\n",
       "      <td>Yes</td>\n",
       "      <td>Sat</td>\n",
       "      <td>Dinner</td>\n",
       "      <td>2</td>\n",
       "    </tr>\n",
       "    <tr>\n",
       "      <th>241</th>\n",
       "      <td>22.67</td>\n",
       "      <td>2.00</td>\n",
       "      <td>Male</td>\n",
       "      <td>Yes</td>\n",
       "      <td>Sat</td>\n",
       "      <td>Dinner</td>\n",
       "      <td>2</td>\n",
       "    </tr>\n",
       "    <tr>\n",
       "      <th>242</th>\n",
       "      <td>17.82</td>\n",
       "      <td>1.75</td>\n",
       "      <td>Male</td>\n",
       "      <td>No</td>\n",
       "      <td>Sat</td>\n",
       "      <td>Dinner</td>\n",
       "      <td>2</td>\n",
       "    </tr>\n",
       "    <tr>\n",
       "      <th>243</th>\n",
       "      <td>18.78</td>\n",
       "      <td>3.00</td>\n",
       "      <td>Female</td>\n",
       "      <td>No</td>\n",
       "      <td>Thur</td>\n",
       "      <td>Dinner</td>\n",
       "      <td>2</td>\n",
       "    </tr>\n",
       "  </tbody>\n",
       "</table>\n",
       "<p>244 rows × 7 columns</p>\n",
       "</div>"
      ],
      "text/plain": [
       "     total_bill   tip     sex smoker   day    time  size\n",
       "0         16.99  1.01  Female     No   Sun  Dinner     2\n",
       "1         10.34  1.66    Male     No   Sun  Dinner     3\n",
       "2         21.01  3.50    Male     No   Sun  Dinner     3\n",
       "3         23.68  3.31    Male     No   Sun  Dinner     2\n",
       "4         24.59  3.61  Female     No   Sun  Dinner     4\n",
       "..          ...   ...     ...    ...   ...     ...   ...\n",
       "239       29.03  5.92    Male     No   Sat  Dinner     3\n",
       "240       27.18  2.00  Female    Yes   Sat  Dinner     2\n",
       "241       22.67  2.00    Male    Yes   Sat  Dinner     2\n",
       "242       17.82  1.75    Male     No   Sat  Dinner     2\n",
       "243       18.78  3.00  Female     No  Thur  Dinner     2\n",
       "\n",
       "[244 rows x 7 columns]"
      ]
     },
     "execution_count": 27,
     "metadata": {},
     "output_type": "execute_result"
    }
   ],
   "source": [
    "import seaborn as sns\n",
    "\n",
    "# Load the tips dataset\n",
    "df = sns.load_dataset('tips')\n",
    "df"
   ]
  },
  {
   "cell_type": "markdown",
   "id": "c769cb10",
   "metadata": {},
   "source": [
    "# (i) Write a Python function that calculates their skewness."
   ]
  },
  {
   "cell_type": "code",
   "execution_count": 28,
   "id": "0c5aeac4",
   "metadata": {},
   "outputs": [
    {
     "name": "stdout",
     "output_type": "stream",
     "text": [
      "Skewness of 'total_bill': 1.1262346334818638\n",
      "Skewness of 'tip': 1.4564266884221506\n"
     ]
    }
   ],
   "source": [
    "import scipy.stats as stats\n",
    "\n",
    "def calculate_skewness(column):\n",
    "    \"\"\"\n",
    "    Calculates the skewness of a given column in the DataFrame.\n",
    "    \n",
    "    :param column: The data column for which to calculate skewness.\n",
    "    :return: The skewness of the column.\n",
    "    \"\"\"\n",
    "    return stats.skew(column)\n",
    "\n",
    "# Calculate skewness for 'total_bill' and 'tip' columns\n",
    "skewness_total_bill = calculate_skewness(df['total_bill'])\n",
    "skewness_tip = calculate_skewness(df['tip'])\n",
    "\n",
    "print(\"Skewness of 'total_bill':\", skewness_total_bill)\n",
    "print(\"Skewness of 'tip':\", skewness_tip)\n"
   ]
  },
  {
   "cell_type": "markdown",
   "id": "af1fae3d",
   "metadata": {},
   "source": [
    "# (ii) Create a program that determines whether the columns exhibit positive skewness, negative skewness, or is approximately symmetric"
   ]
  },
  {
   "cell_type": "code",
   "execution_count": 29,
   "id": "2bb0b090",
   "metadata": {},
   "outputs": [
    {
     "name": "stdout",
     "output_type": "stream",
     "text": [
      "Skewness Type of 'total_bill': Positive Skewness\n",
      "Skewness Type of 'tip': Positive Skewness\n"
     ]
    }
   ],
   "source": [
    "def determine_skewness_type(skewness):\n",
    "    \"\"\"\n",
    "    Determines whether the skewness indicates positive, negative, or symmetric distribution.\n",
    "    \n",
    "    :param skewness: The skewness value.\n",
    "    :return: A string indicating the type of skewness.\n",
    "    \"\"\"\n",
    "    if skewness > 0:\n",
    "        return \"Positive Skewness\"\n",
    "    elif skewness < 0:\n",
    "        return \"Negative Skewness\"\n",
    "    else:\n",
    "        return \"Approximately Symmetric\"\n",
    "\n",
    "# Determine skewness type for 'total_bill' and 'tip'\n",
    "skewness_type_total_bill = determine_skewness_type(skewness_total_bill)\n",
    "skewness_type_tip = determine_skewness_type(skewness_tip)\n",
    "\n",
    "print(\"Skewness Type of 'total_bill':\", skewness_type_total_bill)\n",
    "print(\"Skewness Type of 'tip':\", skewness_type_tip)\n"
   ]
  },
  {
   "cell_type": "markdown",
   "id": "0d801594",
   "metadata": {},
   "source": [
    "#  (iii) Write a function that calculates the covariance between two columns."
   ]
  },
  {
   "cell_type": "code",
   "execution_count": 30,
   "id": "625ea0b0",
   "metadata": {},
   "outputs": [
    {
     "name": "stdout",
     "output_type": "stream",
     "text": [
      "Covariance between 'total_bill' and 'tip': 8.28938891762967\n"
     ]
    }
   ],
   "source": [
    "def calculate_covariance(column1, column2):\n",
    "    \"\"\"\n",
    "    Calculates the covariance between two columns.\n",
    "    \n",
    "    :param column1: The first data column.\n",
    "    :param column2: The second data column.\n",
    "    :return: The covariance between the two columns.\n",
    "    \"\"\"\n",
    "    return np.cov(column1, column2, ddof=0)[0, 1]\n",
    "\n",
    "# Calculate covariance between 'total_bill' and 'tip'\n",
    "covariance_total_bill_tip = calculate_covariance(df['total_bill'], df['tip'])\n",
    "print(\"Covariance between 'total_bill' and 'tip':\", covariance_total_bill_tip)\n"
   ]
  },
  {
   "cell_type": "markdown",
   "id": "7cac15a4",
   "metadata": {},
   "source": [
    "# (iv) Implement a Python program that calculates the Pearson correlation coefficient between two columns."
   ]
  },
  {
   "cell_type": "code",
   "execution_count": 31,
   "id": "8d536589",
   "metadata": {},
   "outputs": [
    {
     "name": "stdout",
     "output_type": "stream",
     "text": [
      "Pearson Correlation Coefficient between 'total_bill' and 'tip': 0.6757341092113641\n"
     ]
    }
   ],
   "source": [
    "def calculate_pearson_correlation(column1, column2):\n",
    "    \"\"\"\n",
    "    Calculates the Pearson correlation coefficient between two columns.\n",
    "    \n",
    "    :param column1: The first data column.\n",
    "    :param column2: The second data column.\n",
    "    :return: The Pearson correlation coefficient.\n",
    "    \"\"\"\n",
    "    return np.corrcoef(column1, column2)[0, 1]\n",
    "\n",
    "# Calculate Pearson correlation coefficient between 'total_bill' and 'tip'\n",
    "pearson_correlation_total_bill_tip = calculate_pearson_correlation(df['total_bill'], df['tip'])\n",
    "print(\"Pearson Correlation Coefficient between 'total_bill' and 'tip':\", pearson_correlation_total_bill_tip)\n"
   ]
  },
  {
   "cell_type": "markdown",
   "id": "319c67ed",
   "metadata": {},
   "source": [
    "#  (v) Write a script to visualize the correlation between two specific columns in a Pandas DataFrame using scatter plots."
   ]
  },
  {
   "cell_type": "code",
   "execution_count": 32,
   "id": "95044cbe",
   "metadata": {},
   "outputs": [
    {
     "data": {
      "image/png": "[encoded data removed]",
      "text/plain": [
       "<Figure size 800x600 with 1 Axes>"
      ]
     },
     "metadata": {},
     "output_type": "display_data"
    }
   ],
   "source": [
    "import matplotlib.pyplot as plt\n",
    "\n",
    "def plot_scatter(df, col1, col2):\n",
    "    \"\"\"\n",
    "    Plots a scatter plot to visualize the correlation between two columns.\n",
    "    \n",
    "    :param df: The DataFrame containing the columns.\n",
    "    :param col1: The name of the first column.\n",
    "    :param col2: The name of the second column.\n",
    "    \"\"\"\n",
    "    plt.figure(figsize=(8, 6))\n",
    "    sns.scatterplot(data=df, x=col1, y=col2)\n",
    "    plt.title(f'Scatter Plot of {col1} vs {col2}')\n",
    "    plt.xlabel(col1)\n",
    "    plt.ylabel(col2)\n",
    "    plt.show()\n",
    "\n",
    "# Plot scatter plot for 'total_bill' and 'tip'\n",
    "plot_scatter(df, 'total_bill', 'tip')\n"
   ]
  },
  {
   "cell_type": "markdown",
   "id": "577a931f",
   "metadata": {},
   "source": [
    "# 8. Write a Python function to calculate the probability density function (PDF) of a continuous random variable for a given normal distribution."
   ]
  },
  {
   "cell_type": "code",
   "execution_count": 33,
   "id": "e94fca48",
   "metadata": {},
   "outputs": [
    {
     "name": "stdout",
     "output_type": "stream",
     "text": [
      "The PDF value at x = 1 for a normal distribution with mean = 0 and std_dev = 1 is: 0.24197072451914337\n"
     ]
    }
   ],
   "source": [
    "import numpy as np\n",
    "\n",
    "def normal_pdf(x, mean, std_dev):\n",
    "    \"\"\"\n",
    "    Calculates the probability density function (PDF) for a given normal distribution.\n",
    "    \n",
    "    :param x: The value of the random variable.\n",
    "    :param mean: The mean (μ) of the normal distribution.\n",
    "    :param std_dev: The standard deviation (σ) of the normal distribution.\n",
    "    :return: The PDF value at x.\n",
    "    \"\"\"\n",
    "    coefficient = 1 / (std_dev * np.sqrt(2 * np.pi))\n",
    "    exponent = np.exp(-((x - mean) ** 2) / (2 * std_dev ** 2))\n",
    "    return coefficient * exponent\n",
    "\n",
    "# Example usage\n",
    "x_value = 1\n",
    "mean = 0\n",
    "std_dev = 1\n",
    "\n",
    "pdf_value = normal_pdf(x_value, mean, std_dev)\n",
    "print(f\"The PDF value at x = {x_value} for a normal distribution with mean = {mean} and std_dev = {std_dev} is: {pdf_value}\")\n"
   ]
  },
  {
   "cell_type": "markdown",
   "id": "c54e85eb",
   "metadata": {},
   "source": [
    "# 9. Create a program to calculate the cumulative distribution function (CDF) of exponential distribution."
   ]
  },
  {
   "cell_type": "code",
   "execution_count": 35,
   "id": "765965ce",
   "metadata": {},
   "outputs": [
    {
     "name": "stdout",
     "output_type": "stream",
     "text": [
      "The CDF value at x = 2 for an exponential distribution with rate = 0.5 is: 0.6321205588285577\n"
     ]
    }
   ],
   "source": [
    "import numpy as np\n",
    "\n",
    "def exponential_cdf(x, rate):\n",
    "    \"\"\"\n",
    "    Calculates the cumulative distribution function (CDF) for an exponential distribution.\n",
    "    \n",
    "    :param x: The value at which to calculate the CDF.\n",
    "    :param rate: The rate parameter (λ) of the exponential distribution.\n",
    "    :return: The CDF value at x.\n",
    "    \"\"\"\n",
    "    if x < 0:\n",
    "        return 0\n",
    "    else:\n",
    "        return 1 - np.exp(-rate * x)\n",
    "\n",
    "# Example usage\n",
    "x_value = 2\n",
    "rate = 0.5  # λ\n",
    "\n",
    "cdf_value = exponential_cdf(x_value, rate)\n",
    "print(f\"The CDF value at x = {x_value} for an exponential distribution with rate = {rate} is: {cdf_value}\")\n"
   ]
  },
  {
   "cell_type": "code",
   "execution_count": 36,
   "id": "848004c4",
   "metadata": {},
   "outputs": [
    {
     "data": {
      "image/png": "[encoded data removed]",
      "text/plain": [
       "<Figure size 640x480 with 1 Axes>"
      ]
     },
     "metadata": {},
     "output_type": "display_data"
    }
   ],
   "source": [
    "import numpy as np\n",
    "import matplotlib.pyplot as plt\n",
    "\n",
    "def exponential_cdf(x, rate):\n",
    "    \"\"\"\n",
    "    Calculate the CDF of the exponential distribution for a given rate (lambda) and array of x values.\n",
    "    \n",
    "    Parameters:\n",
    "    x (numpy array): Array of x values.\n",
    "    rate (float): Rate parameter (lambda) of the exponential distribution.\n",
    "    \n",
    "    Returns:\n",
    "    numpy array: CDF values corresponding to the x values.\n",
    "    \"\"\"\n",
    "    return 1 - np.exp(-rate * x)\n",
    "\n",
    "# Example usage:\n",
    "x_values = np.linspace(0, 5, 100)  # Generate 100 x values from 0 to 5\n",
    "rate = 1.0  # Example rate parameter (lambda)\n",
    "\n",
    "# Calculate the CDF for these x values\n",
    "cdf_values = exponential_cdf(x_values, rate)\n",
    "\n",
    "# Plot the CDF\n",
    "plt.plot(x_values, cdf_values, label=f'Rate = {rate}')\n",
    "plt.title('CDF of Exponential Distribution')\n",
    "plt.xlabel('x')\n",
    "plt.ylabel('CDF')\n",
    "plt.grid(True)\n",
    "plt.legend()\n",
    "plt.show()\n"
   ]
  },
  {
   "cell_type": "markdown",
   "id": "77d7af39",
   "metadata": {},
   "source": [
    "# 10. Write a Python function to calculate the probability mass function (PMF) of Poisson distribution."
   ]
  },
  {
   "cell_type": "code",
   "execution_count": 37,
   "id": "da17180c",
   "metadata": {},
   "outputs": [
    {
     "name": "stdout",
     "output_type": "stream",
     "text": [
      "The PMF value for k = 3 in a Poisson distribution with rate = 2 is: 0.1804470443154836\n"
     ]
    }
   ],
   "source": [
    "import math\n",
    "\n",
    "def poisson_pmf(k, rate):\n",
    "    \"\"\"\n",
    "    Calculates the probability mass function (PMF) for a Poisson distribution.\n",
    "    \n",
    "    :param k: The number of occurrences (k).\n",
    "    :param rate: The rate parameter (λ) of the Poisson distribution.\n",
    "    :return: The PMF value for k occurrences.\n",
    "    \"\"\"\n",
    "    # Calculate the PMF using the formula\n",
    "    pmf = (rate ** k) * math.exp(-rate) / math.factorial(k)\n",
    "    return pmf\n",
    "\n",
    "# Example usage\n",
    "k_value = 3\n",
    "rate = 2  # λ\n",
    "\n",
    "pmf_value = poisson_pmf(k_value, rate)\n",
    "print(f\"The PMF value for k = {k_value} in a Poisson distribution with rate = {rate} is: {pmf_value}\")\n"
   ]
  },
  {
   "cell_type": "markdown",
   "id": "bc464d81",
   "metadata": {},
   "source": [
    "# 11. A company wants to test if a new website layout leads to a higher conversion rate (percentage of visitors who make a purchase). They collect data from the old and new layouts to compare.\n",
    "To generate the data use the following command:\n",
    "\n",
    "python\n",
    "\n",
    "import numpy as <p\n",
    "\n",
    "50 purchases out of 1000 visitors\n",
    "\n",
    "old_layout = np.array([1] * 50 + [0] * 950)\n",
    "\n",
    " 70 purchases out of 1000 visitors  \n",
    "\n",
    "new_layout = np.array([1] * 70 + [0] * 930)\n",
    "\n",
    "\n",
    "Apply z-test to find which layout is successful."
   ]
  },
  {
   "cell_type": "code",
   "execution_count": 43,
   "id": "b2daeaaa",
   "metadata": {},
   "outputs": [
    {
     "name": "stdout",
     "output_type": "stream",
     "text": [
      "Z-statistic: -1.8831\n",
      "P-value: 0.9702\n",
      "The old layout is successful. The new layout does not have a significantly higher conversion rate.\n"
     ]
    }
   ],
   "source": [
    "import numpy as np\n",
    "\n",
    "# Data for old layout: 50 purchases out of 1000 visitors\n",
    "old_layout = np.array([1] * 50 + [0] * 950)\n",
    "\n",
    "# Data for new layout: 70 purchases out of 1000 visitors\n",
    "new_layout = np.array([1] * 70 + [0] * 930)\n",
    "\n",
    "from statsmodels.stats.proportion import proportions_ztest\n",
    "\n",
    "# Calculate the number of successes (purchases) and the number of trials (visitors)\n",
    "successes = np.array([old_layout.sum(), new_layout.sum()])\n",
    "trials = np.array([len(old_layout), len(new_layout)])\n",
    "\n",
    "# Perform the Z-test\n",
    "z_stat, p_value = proportions_ztest(successes, trials, alternative='larger')\n",
    "\n",
    "print(f\"Z-statistic: {z_stat:.4f}\")\n",
    "print(f\"P-value: {p_value:.4f}\")\n",
    "\n",
    "# Interpretation\n",
    "if p_value < 0.05:\n",
    "    print(\"The new layout is successful. It has a significantly higher conversion rate.\")\n",
    "else:\n",
    "    print(\"The old layout is successful. The new layout does not have a significantly higher conversion rate.\")\n"
   ]
  },
  {
   "cell_type": "markdown",
   "id": "2fce3262",
   "metadata": {},
   "source": [
    "# 12. A tutoring service claims that its program improves students' exam scores. A sample of students who participated in the program was taken, and their scores before and after the program were recorded.\n",
    "\n",
    "\n",
    "Use the below code to generate samples of respective arrays of marks:\n",
    "\n",
    "python\n",
    "\n",
    "before_program = np.array([75, 80, 85, 70, 90, 78, 92, 88, 82, 87])\n",
    "\n",
    "after_program = np.array([80, 85, 90, 80, 92, 80, 95, 90, 85, 88])\n",
    "\n",
    "\n",
    "Use z-test to find if the claims made by tutor are true or false."
   ]
  },
  {
   "cell_type": "code",
   "execution_count": 42,
   "id": "f556425e",
   "metadata": {},
   "outputs": [
    {
     "name": "stdout",
     "output_type": "stream",
     "text": [
      "Z-statistic: 4.5932\n",
      "P-value: 0.0000\n",
      "The claim made by the tutor is True\n"
     ]
    }
   ],
   "source": [
    "import numpy as np\n",
    "\n",
    "before_program = np.array([75, 80, 85, 70, 90, 78, 92, 88, 82, 87])\n",
    "after_program = np.array([80, 85, 90, 80, 92, 80, 95, 90, 85, 88])\n",
    "\n",
    "from statsmodels.stats.weightstats import ztest\n",
    "\n",
    "# Calculate the differences between the scores before and after the program\n",
    "differences = after_program - before_program\n",
    "\n",
    "# Perform the Z-test on the differences\n",
    "z_stat, p_value = ztest(differences)\n",
    "\n",
    "print(f\"Z-statistic: {z_stat:.4f}\")\n",
    "print(f\"P-value: {p_value:.4f}\")\n",
    "\n",
    "# Interpretation\n",
    "if p_value < 0.05:\n",
    "    print(\"The claim made by the tutor is True\")\n",
    "else:\n",
    "    print(\"The claim made by the tutor is false.\")"
   ]
  },
  {
   "cell_type": "markdown",
   "id": "df734d92",
   "metadata": {},
   "source": [
    "# 13. A pharmaceutical company wants to determine if a new drug is effective in reducing blood pressure. They conduct a study and record blood pressure measurements before and after administering the drug.\n",
    "\n",
    "\n",
    "Use the below code to generate samples of respective arrays of blood pressure:\n",
    "\n",
    "\n",
    "python\n",
    "\n",
    "before_drug = np.array([145, 150, 140, 135, 155, 160, 152, 148, 130, 138])\n",
    "\n",
    "after_drug = np.array([130, 140, 132, 128, 145, 148, 138, 136, 125, 130])\n",
    "\n",
    "\n",
    "\n",
    "Implement z-test to find if the drug really works or not\n",
    "\n",
    "\n"
   ]
  },
  {
   "cell_type": "code",
   "execution_count": 46,
   "id": "46cbdc4f",
   "metadata": {},
   "outputs": [
    {
     "name": "stdout",
     "output_type": "stream",
     "text": [
      "Z-statistic: -10.0499\n",
      "P-value: 0.0000\n",
      "The drug is working in reducing blood pressure.\n"
     ]
    }
   ],
   "source": [
    "import numpy as np\n",
    "\n",
    "before_drug = np.array([145, 150, 140, 135, 155, 160, 152, 148, 130, 138])\n",
    "after_drug = np.array([130, 140, 132, 128, 145, 148, 138, 136, 125, 130])\n",
    "\n",
    "from statsmodels.stats.weightstats import ztest\n",
    "\n",
    "# Calculate the differences between the measurements before and after the drug\n",
    "differences = after_drug - before_drug\n",
    "\n",
    "# Perform the Z-test on the differences\n",
    "z_stat, p_value = ztest(differences)\n",
    "\n",
    "print(f\"Z-statistic: {z_stat:.4f}\")\n",
    "print(f\"P-value: {p_value:.4f}\")\n",
    "\n",
    "# Interpretation\n",
    "if p_value < 0.05:\n",
    "    print(\"The drug is working in reducing blood pressure.\")\n",
    "else:\n",
    "    print(\"The drug is not working in reducing blood pressure.\")\n"
   ]
  },
  {
   "cell_type": "markdown",
   "id": "2804829a",
   "metadata": {},
   "source": [
    "# 14. A customer service department claims that their average response time is less than 5 minutes A sample of recent customer interactions was taken, and the response times were recorded.\n",
    "\n",
    "\n",
    "Impleme3t the below code to ge3erate the array of respo3se time:\n",
    "\n",
    "python\n",
    "\n",
    "response_times = np.array([4.3, 3.8, 5.1, 4.9, 4.7, 4.2, 5.2, 4.5, 4.6, 4.4])\n",
    "\n",
    "\n",
    "Implement z-test to find the claims made by customer service department are true or false."
   ]
  },
  {
   "cell_type": "code",
   "execution_count": 48,
   "id": "c287e5f4",
   "metadata": {},
   "outputs": [
    {
     "name": "stdout",
     "output_type": "stream",
     "text": [
      "Z-statistic: -3.1845\n",
      "P-value: 0.0007\n",
      "The customer service department's claim that their average response time is less than 5 minutes is true.\n"
     ]
    }
   ],
   "source": [
    "import numpy as np\n",
    "\n",
    "response_times = np.array([4.3, 3.8, 5.1, 4.9, 4.7, 4.2, 5.2, 4.5, 4.6, 4.4])\n",
    "\n",
    "from scipy import stats\n",
    "\n",
    "# Define the claimed mean response time\n",
    "claimed_mean = 5.0\n",
    "\n",
    "# Calculate the sample mean and standard deviation\n",
    "sample_mean = np.mean(response_times)\n",
    "sample_std = np.std(response_times, ddof=1)\n",
    "sample_size = len(response_times)\n",
    "\n",
    "# Calculate the Z-statistic\n",
    "z_stat = (sample_mean - claimed_mean) / (sample_std / np.sqrt(sample_size))\n",
    "\n",
    "# Calculate the P-value for a one-tailed test (less than test)\n",
    "p_value = stats.norm.cdf(z_stat)\n",
    "\n",
    "print(f\"Z-statistic: {z_stat:.4f}\")\n",
    "print(f\"P-value: {p_value:.4f}\")\n",
    "\n",
    "# Interpretation\n",
    "if p_value < 0.05:\n",
    "    print(\"The customer service department's claim that their average response time is less than 5 minutes is true.\")\n",
    "else:\n",
    "    print(\"The customer service department's claim that their average response time is less than 5 minutes is false.\")\n"
   ]
  },
  {
   "cell_type": "markdown",
   "id": "ff812fed",
   "metadata": {},
   "source": [
    "# 15. A company is testing two different website layouts to see which one leads to higher click-through rates. Write a Python function to performan A/B test analysis, including calculating the t-statistic, degrees of freedom and p-value.\n",
    "\n",
    "\n",
    "Use the following data:\n",
    "\n",
    "python\n",
    "\n",
    "layout_a_clicks = [28, 32, 33, 29, 31, 34, 30, 35, 36, 37]\n",
    "\n",
    "layout_b_clicks = [40, 41, 38, 42, 39, 44, 43, 41, 45, 47]"
   ]
  },
  {
   "cell_type": "code",
   "execution_count": 49,
   "id": "9a1fd644",
   "metadata": {},
   "outputs": [
    {
     "name": "stdout",
     "output_type": "stream",
     "text": [
      "Mean of Layout A: 32.50\n",
      "Mean of Layout B: 42.00\n",
      "Standard Deviation of Layout A: 3.03\n",
      "Standard Deviation of Layout B: 2.79\n",
      "T-statistic: -7.2981\n",
      "Degrees of Freedom: 18\n",
      "P-value: 0.0000\n",
      "Reject the null hypothesis: There is a significant difference in click-through rates between the two layouts.\n"
     ]
    }
   ],
   "source": [
    "layout_a_clicks = [28, 32, 33, 29, 31, 34, 30, 35, 36, 37]\n",
    "layout_b_clicks = [40, 41, 38, 42, 39, 44, 43, 41, 45, 47]\n",
    "\n",
    "import numpy as np\n",
    "from scipy import stats\n",
    "\n",
    "def perform_ab_test(layout_a, layout_b):\n",
    "    # Calculate the means of each layout\n",
    "    mean_a = np.mean(layout_a)\n",
    "    mean_b = np.mean(layout_b)\n",
    "    \n",
    "    # Calculate the standard deviations of each layout\n",
    "    std_a = np.std(layout_a, ddof=1)\n",
    "    std_b = np.std(layout_b, ddof=1)\n",
    "    \n",
    "    # Calculate the sample sizes\n",
    "    n_a = len(layout_a)\n",
    "    n_b = len(layout_b)\n",
    "    \n",
    "    # Calculate the t-statistic and degrees of freedom\n",
    "    pooled_var = (((n_a - 1) * std_a**2) + ((n_b - 1) * std_b**2)) / (n_a + n_b - 2)\n",
    "    t_stat = (mean_a - mean_b) / np.sqrt(pooled_var * (1/n_a + 1/n_b))\n",
    "    df = n_a + n_b - 2  # Degrees of freedom\n",
    "    \n",
    "    # Calculate the p-value\n",
    "    p_value = stats.t.sf(np.abs(t_stat), df) * 2  # Two-tailed test\n",
    "    \n",
    "    print(f\"Mean of Layout A: {mean_a:.2f}\")\n",
    "    print(f\"Mean of Layout B: {mean_b:.2f}\")\n",
    "    print(f\"Standard Deviation of Layout A: {std_a:.2f}\")\n",
    "    print(f\"Standard Deviation of Layout B: {std_b:.2f}\")\n",
    "    print(f\"T-statistic: {t_stat:.4f}\")\n",
    "    print(f\"Degrees of Freedom: {df}\")\n",
    "    print(f\"P-value: {p_value:.4f}\")\n",
    "\n",
    "    # Interpretation\n",
    "    if p_value < 0.05:\n",
    "        print(\"Reject the null hypothesis: There is a significant difference in click-through rates between the two layouts.\")\n",
    "    else:\n",
    "        print(\"Fail to reject the null hypothesis: There is no significant difference in click-through rates between the two layouts.\")\n",
    "\n",
    "# Perform the A/B test\n",
    "perform_ab_test(layout_a_clicks, layout_b_clicks)\n"
   ]
  },
  {
   "cell_type": "markdown",
   "id": "f18f6d3c",
   "metadata": {},
   "source": [
    "# 16. A pharmaceutical company wants to determine if a new drug is more effective than an existing drug in reducing cholesterol levels Create a program to analyze the clinical trial data and calculate the t-statistic and p-value for the treatment effect.\n",
    "\n",
    "\n",
    "Use the following data of cholestrol level:\n",
    "\n",
    "python\n",
    "\n",
    "existing_drug_levels = [180, 182, 175, 185, 178, 176, 172, 184, 179, 183]\n",
    "\n",
    "new_drug_levels = [170, 172, 165, 168, 175, 173, 170, 178, 172, 176]"
   ]
  },
  {
   "cell_type": "code",
   "execution_count": 51,
   "id": "a04b7e75",
   "metadata": {},
   "outputs": [
    {
     "name": "stdout",
     "output_type": "stream",
     "text": [
      "Mean of Existing Drug: 179.40\n",
      "Mean of New Drug: 171.90\n",
      "Standard Deviation of Existing Drug: 4.22\n",
      "Standard Deviation of New Drug: 3.87\n",
      "T-statistic: 4.1405\n",
      "Degrees of Freedom: 18\n",
      "P-value: 0.0006\n",
      "The new drug is more effective in reducing cholesterol levels than the existing drug.\n"
     ]
    }
   ],
   "source": [
    "existing_drug_levels = [180, 182, 175, 185, 178, 176, 172, 184, 179, 183]\n",
    "new_drug_levels = [170, 172, 165, 168, 175, 173, 170, 178, 172, 176]\n",
    "\n",
    "import numpy as np\n",
    "from scipy import stats\n",
    "\n",
    "def analyze_drug_effect(existing_drug_levels, new_drug_levels):\n",
    "    # Calculate the means of each group\n",
    "    mean_existing = np.mean(existing_drug_levels)\n",
    "    mean_new = np.mean(new_drug_levels)\n",
    "    \n",
    "    # Calculate the standard deviations of each group\n",
    "    std_existing = np.std(existing_drug_levels, ddof=1)\n",
    "    std_new = np.std(new_drug_levels, ddof=1)\n",
    "    \n",
    "    # Calculate the sample sizes\n",
    "    n_existing = len(existing_drug_levels)\n",
    "    n_new = len(new_drug_levels)\n",
    "    \n",
    "    # Calculate the t-statistic and degrees of freedom\n",
    "    pooled_var = (((n_existing - 1) * std_existing**2) + ((n_new - 1) * std_new**2)) / (n_existing + n_new - 2)\n",
    "    t_stat = (mean_existing - mean_new) / np.sqrt(pooled_var * (1/n_existing + 1/n_new))\n",
    "    df = n_existing + n_new - 2  # Degrees of freedom\n",
    "    \n",
    "    # Calculate the p-value for a one-tailed test (greater than test)\n",
    "    p_value = stats.t.sf(np.abs(t_stat), df) * 2  # Two-tailed test\n",
    "    \n",
    "    print(f\"Mean of Existing Drug: {mean_existing:.2f}\")\n",
    "    print(f\"Mean of New Drug: {mean_new:.2f}\")\n",
    "    print(f\"Standard Deviation of Existing Drug: {std_existing:.2f}\")\n",
    "    print(f\"Standard Deviation of New Drug: {std_new:.2f}\")\n",
    "    print(f\"T-statistic: {t_stat:.4f}\")\n",
    "    print(f\"Degrees of Freedom: {df}\")\n",
    "    print(f\"P-value: {p_value:.4f}\")\n",
    "\n",
    "    # Interpretation\n",
    "    if p_value < 0.05:\n",
    "        print(\"The new drug is more effective in reducing cholesterol levels than the existing drug.\")\n",
    "    else:\n",
    "        print(\"The new drug is not more effective in reducing cholesterol levels than the existing drug.\")\n",
    "\n",
    "# Perform the analysis\n",
    "analyze_drug_effect(existing_drug_levels, new_drug_levels)\n"
   ]
  },
  {
   "cell_type": "markdown",
   "id": "9064ab5d",
   "metadata": {},
   "source": [
    "# 17. A school district introduces an educational intervention program to improve math scores Write a Python function to analyze pre- and post-intervention test scores, calculating the t-statistic and p-value to determine if the intervention had a significant impact.\n",
    "\n",
    "\n",
    "Use the following data of test score:\n",
    "\n",
    "\n",
    "  \n",
    "python\n",
    "\n",
    "  pre_intervention_scores = [80, 85, 90, 75, 88, 82, 92, 78, 85, 87]\n",
    "\n",
    "  post_intervention_scores = [90, 92, 88, 92, 95, 91, 96, 93, 89, 93]"
   ]
  },
  {
   "cell_type": "code",
   "execution_count": 52,
   "id": "4b420256",
   "metadata": {},
   "outputs": [
    {
     "name": "stdout",
     "output_type": "stream",
     "text": [
      "Mean of Differences: 7.70\n",
      "Standard Deviation of Differences: 5.50\n",
      "T-statistic: 4.4284\n",
      "Degrees of Freedom: 9\n",
      "P-value: 0.0017\n",
      "Reject the null hypothesis: The intervention had a significant impact on test scores.\n"
     ]
    }
   ],
   "source": [
    "pre_intervention_scores = [80, 85, 90, 75, 88, 82, 92, 78, 85, 87]\n",
    "post_intervention_scores = [90, 92, 88, 92, 95, 91, 96, 93, 89, 93]\n",
    "\n",
    "import numpy as np\n",
    "from scipy import stats\n",
    "\n",
    "def analyze_intervention_impact(pre_scores, post_scores):\n",
    "    # Convert to numpy arrays\n",
    "    pre_scores = np.array(pre_scores)\n",
    "    post_scores = np.array(post_scores)\n",
    "    \n",
    "    # Check if lengths match\n",
    "    if len(pre_scores) != len(post_scores):\n",
    "        raise ValueError(\"The number of pre-intervention and post-intervention scores must be the same.\")\n",
    "    \n",
    "    # Calculate the differences\n",
    "    differences = post_scores - pre_scores\n",
    "    \n",
    "    # Calculate the mean and standard deviation of the differences\n",
    "    mean_diff = np.mean(differences)\n",
    "    std_diff = np.std(differences, ddof=1)\n",
    "    n = len(differences)\n",
    "    \n",
    "    # Calculate the t-statistic and degrees of freedom\n",
    "    t_stat = mean_diff / (std_diff / np.sqrt(n))\n",
    "    df = n - 1  # Degrees of freedom\n",
    "    \n",
    "    # Calculate the p-value for a two-tailed test\n",
    "    p_value = stats.t.sf(np.abs(t_stat), df) * 2\n",
    "    \n",
    "    print(f\"Mean of Differences: {mean_diff:.2f}\")\n",
    "    print(f\"Standard Deviation of Differences: {std_diff:.2f}\")\n",
    "    print(f\"T-statistic: {t_stat:.4f}\")\n",
    "    print(f\"Degrees of Freedom: {df}\")\n",
    "    print(f\"P-value: {p_value:.4f}\")\n",
    "\n",
    "    # Interpretation\n",
    "    if p_value < 0.05:\n",
    "        print(\"The intervention had a significant impact on test scores.\")\n",
    "    else:\n",
    "        print(\"The intervention did not have a significant impact on test scores.\")\n",
    "\n",
    "# Perform the analysis\n",
    "analyze_intervention_impact(pre_intervention_scores, post_intervention_scores)\n"
   ]
  },
  {
   "cell_type": "markdown",
   "id": "790423be",
   "metadata": {},
   "source": [
    "# 18. An HR department wants to investigate if there's a gender-based salary gap within the company. Develop a program to analyze salary data, calculate the t-statistic, and determine if there's a statistically significant difference between the average salaries of male and female employees.\n",
    "\n",
    "\n",
    "Use the below code to generate synthetic data:\n",
    "python\n",
    "\n",
    "Generate synthetic salary data for male and female employees\n",
    "\n",
    "np.random.seed(0)  # For reproducibility\n",
    "\n",
    "male_salaries = np.random.normal(loc=50000, scale=10000, size=20)\n",
    "\n",
    "female_salaries = np.random.normal(loc=55000, scale=9000, size=20)"
   ]
  },
  {
   "cell_type": "code",
   "execution_count": 53,
   "id": "45c1bd78",
   "metadata": {},
   "outputs": [
    {
     "name": "stdout",
     "output_type": "stream",
     "text": [
      "Mean Salary of Male Employees: $55693.35\n",
      "Mean Salary of Female Employees: $55501.75\n",
      "Standard Deviation of Male Salaries: $8722.69\n",
      "Standard Deviation of Female Salaries: $10968.10\n",
      "T-statistic: 0.0611\n",
      "Degrees of Freedom: 38\n",
      "P-value: 0.9516\n",
      "Fail to reject the null hypothesis: There is no statistically significant difference in average salaries between male and female employees.\n"
     ]
    }
   ],
   "source": [
    "import numpy as np\n",
    "\n",
    "# Generate synthetic salary data for male and female employees\n",
    "np.random.seed(0)  # For reproducibility\n",
    "\n",
    "male_salaries = np.random.normal(loc=50000, scale=10000, size=20)\n",
    "female_salaries = np.random.normal(loc=55000, scale=9000, size=20)\n",
    "\n",
    "import numpy as np\n",
    "from scipy import stats\n",
    "\n",
    "def analyze_salary_gap(male_salaries, female_salaries):\n",
    "    # Convert to numpy arrays\n",
    "    male_salaries = np.array(male_salaries)\n",
    "    female_salaries = np.array(female_salaries)\n",
    "    \n",
    "    # Calculate means and standard deviations\n",
    "    mean_male = np.mean(male_salaries)\n",
    "    mean_female = np.mean(female_salaries)\n",
    "    std_male = np.std(male_salaries, ddof=1)\n",
    "    std_female = np.std(female_salaries, ddof=1)\n",
    "    \n",
    "    # Calculate sample sizes\n",
    "    n_male = len(male_salaries)\n",
    "    n_female = len(female_salaries)\n",
    "    \n",
    "    # Calculate the t-statistic and degrees of freedom\n",
    "    pooled_var = (((n_male - 1) * std_male**2) + ((n_female - 1) * std_female**2)) / (n_male + n_female - 2)\n",
    "    t_stat = (mean_male - mean_female) / np.sqrt(pooled_var * (1/n_male + 1/n_female))\n",
    "    df = n_male + n_female - 2  # Degrees of freedom\n",
    "    \n",
    "    # Calculate the p-value for a two-tailed test\n",
    "    p_value = stats.t.sf(np.abs(t_stat), df) * 2\n",
    "    \n",
    "    print(f\"Mean Salary of Male Employees: ${mean_male:.2f}\")\n",
    "    print(f\"Mean Salary of Female Employees: ${mean_female:.2f}\")\n",
    "    print(f\"Standard Deviation of Male Salaries: ${std_male:.2f}\")\n",
    "    print(f\"Standard Deviation of Female Salaries: ${std_female:.2f}\")\n",
    "    print(f\"T-statistic: {t_stat:.4f}\")\n",
    "    print(f\"Degrees of Freedom: {df}\")\n",
    "    print(f\"P-value: {p_value:.4f}\")\n",
    "\n",
    "    # Interpretation\n",
    "    if p_value < 0.05:\n",
    "        print(\"Reject the null hypothesis: There is a statistically significant difference in average salaries between male and female employees.\")\n",
    "    else:\n",
    "        print(\"Fail to reject the null hypothesis: There is no statistically significant difference in average salaries between male and female employees.\")\n",
    "\n",
    "# Perform the analysis\n",
    "analyze_salary_gap(male_salaries, female_salaries)\n"
   ]
  },
  {
   "cell_type": "markdown",
   "id": "22ac8310",
   "metadata": {},
   "source": [
    "# 19. A manufacturer produces two different versions of a product and wants to compare their quality scores. Create a Python function to analyze quality assessment data, calculate the t-statistic, and decide whether there's a significant difference in quality between the two versions.\n",
    "\n",
    "\n",
    "Use the following data:\n",
    "python\n",
    "\n",
    "version1_scores = [85, 88, 82, 89, 87, 84, 90, 88, 85, 86, 91, 83, 87, 84, 89, 86, 84, 88, 85, 86, 89, 90, 87, 88, 85]\n",
    "\n",
    "version2_scores = [80, 78, 83, 81, 79, 82, 76, 80, 78, 81, 77, 82, 80, 79, 82, 79, 80, 81, 79, 82, 79, 78, 80, 81, 82]"
   ]
  },
  {
   "cell_type": "code",
   "execution_count": 54,
   "id": "288843f5",
   "metadata": {},
   "outputs": [
    {
     "name": "stdout",
     "output_type": "stream",
     "text": [
      "Mean Quality Score for Version 1: 86.64\n",
      "Mean Quality Score for Version 2: 79.96\n",
      "Standard Deviation of Version 1 Scores: 2.36\n",
      "Standard Deviation of Version 2 Scores: 1.77\n",
      "T-statistic: 11.3258\n",
      "Degrees of Freedom: 48\n",
      "P-value: 0.0000\n",
      "Reject the null hypothesis: There is a statistically significant difference in quality between the two versions.\n"
     ]
    }
   ],
   "source": [
    "version1_scores = [85, 88, 82, 89, 87, 84, 90, 88, 85, 86, 91, 83, 87, 84, 89, 86, 84, 88, 85, 86, 89, 90, 87, 88, 85]\n",
    "version2_scores = [80, 78, 83, 81, 79, 82, 76, 80, 78, 81, 77, 82, 80, 79, 82, 79, 80, 81, 79, 82, 79, 78, 80, 81, 82]\n",
    "\n",
    "import numpy as np\n",
    "from scipy import stats\n",
    "\n",
    "def analyze_quality_difference(version1_scores, version2_scores):\n",
    "    # Convert to numpy arrays\n",
    "    version1_scores = np.array(version1_scores)\n",
    "    version2_scores = np.array(version2_scores)\n",
    "    \n",
    "    # Calculate means and standard deviations\n",
    "    mean_version1 = np.mean(version1_scores)\n",
    "    mean_version2 = np.mean(version2_scores)\n",
    "    std_version1 = np.std(version1_scores, ddof=1)\n",
    "    std_version2 = np.std(version2_scores, ddof=1)\n",
    "    \n",
    "    # Calculate sample sizes\n",
    "    n_version1 = len(version1_scores)\n",
    "    n_version2 = len(version2_scores)\n",
    "    \n",
    "    # Calculate the t-statistic and degrees of freedom\n",
    "    pooled_var = (((n_version1 - 1) * std_version1**2) + ((n_version2 - 1) * std_version2**2)) / (n_version1 + n_version2 - 2)\n",
    "    t_stat = (mean_version1 - mean_version2) / np.sqrt(pooled_var * (1/n_version1 + 1/n_version2))\n",
    "    df = n_version1 + n_version2 - 2  # Degrees of freedom\n",
    "    \n",
    "    # Calculate the p-value for a two-tailed test\n",
    "    p_value = stats.t.sf(np.abs(t_stat), df) * 2\n",
    "    \n",
    "    print(f\"Mean Quality Score for Version 1: {mean_version1:.2f}\")\n",
    "    print(f\"Mean Quality Score for Version 2: {mean_version2:.2f}\")\n",
    "    print(f\"Standard Deviation of Version 1 Scores: {std_version1:.2f}\")\n",
    "    print(f\"Standard Deviation of Version 2 Scores: {std_version2:.2f}\")\n",
    "    print(f\"T-statistic: {t_stat:.4f}\")\n",
    "    print(f\"Degrees of Freedom: {df}\")\n",
    "    print(f\"P-value: {p_value:.4f}\")\n",
    "\n",
    "    # Interpretation\n",
    "    if p_value < 0.05:\n",
    "        print(\"Reject the null hypothesis: There is a statistically significant difference in quality between the two versions.\")\n",
    "    else:\n",
    "        print(\"Fail to reject the null hypothesis: There is no statistically significant difference in quality between the two versions.\")\n",
    "\n",
    "# Perform the analysis\n",
    "analyze_quality_difference(version1_scores, version2_scores)\n"
   ]
  },
  {
   "cell_type": "markdown",
   "id": "d1e28395",
   "metadata": {},
   "source": [
    "# 20. A restaurant chain collects customer satisfaction scores for two different branches. Write a program to analyze the scores, calculate the t-statistic, and determine if there's a statistically significant difference in customer satisfaction between the branches.\n",
    "\n",
    "\n",
    "Use the below data of scores:\n",
    "\n",
    "  \n",
    "python\n",
    "\n",
    "branch_a_scores = [4, 5, 3, 4, 5, 4, 5, 3, 4, 4, 5, 4, 4, 3, 4, 5, 5, 4, 3, 4, 5, 4, 3, 5, 4, 4, 5, 3, 4, 5, 4]\n",
    "\n",
    "branch_b_scores = [3, 4, 2, 3, 4, 3, 4, 2, 3, 3, 4, 3, 3, 2, 3, 4, 4, 3, 2, 3, 4, 3, 2, 4, 3, 3, 4, 2, 3, 4, 3]"
   ]
  },
  {
   "cell_type": "code",
   "execution_count": 55,
   "id": "e35e5141",
   "metadata": {},
   "outputs": [
    {
     "name": "stdout",
     "output_type": "stream",
     "text": [
      "Mean Satisfaction Score for Branch A: 4.13\n",
      "Mean Satisfaction Score for Branch B: 3.13\n",
      "Standard Deviation of Branch A Scores: 0.72\n",
      "Standard Deviation of Branch B Scores: 0.72\n",
      "T-statistic: 5.4801\n",
      "Degrees of Freedom: 60\n",
      "P-value: 0.0000\n",
      "Reject the null hypothesis: There is a statistically significant difference in customer satisfaction between the two branches.\n"
     ]
    }
   ],
   "source": [
    "branch_a_scores = [4, 5, 3, 4, 5, 4, 5, 3, 4, 4, 5, 4, 4, 3, 4, 5, 5, 4, 3, 4, 5, 4, 3, 5, 4, 4, 5, 3, 4, 5, 4]\n",
    "branch_b_scores = [3, 4, 2, 3, 4, 3, 4, 2, 3, 3, 4, 3, 3, 2, 3, 4, 4, 3, 2, 3, 4, 3, 2, 4, 3, 3, 4, 2, 3, 4, 3]\n",
    "\n",
    "\n",
    "import numpy as np\n",
    "from scipy import stats\n",
    "\n",
    "def analyze_customer_satisfaction(branch_a_scores, branch_b_scores):\n",
    "    # Convert to numpy arrays\n",
    "    branch_a_scores = np.array(branch_a_scores)\n",
    "    branch_b_scores = np.array(branch_b_scores)\n",
    "    \n",
    "    # Calculate means and standard deviations\n",
    "    mean_branch_a = np.mean(branch_a_scores)\n",
    "    mean_branch_b = np.mean(branch_b_scores)\n",
    "    std_branch_a = np.std(branch_a_scores, ddof=1)\n",
    "    std_branch_b = np.std(branch_b_scores, ddof=1)\n",
    "    \n",
    "    # Calculate sample sizes\n",
    "    n_branch_a = len(branch_a_scores)\n",
    "    n_branch_b = len(branch_b_scores)\n",
    "    \n",
    "    # Calculate the t-statistic and degrees of freedom\n",
    "    pooled_var = (((n_branch_a - 1) * std_branch_a**2) + ((n_branch_b - 1) * std_branch_b**2)) / (n_branch_a + n_branch_b - 2)\n",
    "    t_stat = (mean_branch_a - mean_branch_b) / np.sqrt(pooled_var * (1/n_branch_a + 1/n_branch_b))\n",
    "    df = n_branch_a + n_branch_b - 2  # Degrees of freedom\n",
    "    \n",
    "    # Calculate the p-value for a two-tailed test\n",
    "    p_value = stats.t.sf(np.abs(t_stat), df) * 2\n",
    "    \n",
    "    print(f\"Mean Satisfaction Score for Branch A: {mean_branch_a:.2f}\")\n",
    "    print(f\"Mean Satisfaction Score for Branch B: {mean_branch_b:.2f}\")\n",
    "    print(f\"Standard Deviation of Branch A Scores: {std_branch_a:.2f}\")\n",
    "    print(f\"Standard Deviation of Branch B Scores: {std_branch_b:.2f}\")\n",
    "    print(f\"T-statistic: {t_stat:.4f}\")\n",
    "    print(f\"Degrees of Freedom: {df}\")\n",
    "    print(f\"P-value: {p_value:.4f}\")\n",
    "\n",
    "    # Interpretation\n",
    "    if p_value < 0.05:\n",
    "        print(\"Reject the null hypothesis: There is a statistically significant difference in customer satisfaction between the two branches.\")\n",
    "    else:\n",
    "        print(\"Fail to reject the null hypothesis: There is no statistically significant difference in customer satisfaction between the two branches.\")\n",
    "\n",
    "# Perform the analysis\n",
    "analyze_customer_satisfaction(branch_a_scores, branch_b_scores)\n"
   ]
  },
  {
   "cell_type": "markdown",
   "id": "6a709ffe",
   "metadata": {},
   "source": [
    "# 21. A political analyst wants to determine if there is a significant association between age groups and voter preferences (Candidate A or Candidate B). They collect data from a sample of 500 voters and classify them into different age groups and candidate preferences. Perform a Chi-Square test to determine if there is a significant association between age groups and voter preferences.\n",
    "\n",
    "\n",
    "Use the below code to generate data:\n",
    "\n",
    "python\n",
    "\n",
    "np.random.seed(0)\n",
    "\n",
    "age_groups = np.random.choice([ 18 30 , 31 50 , 51+', 51+'], size=30)\n",
    "\n",
    "voter_preferences = np.random.choice(['Candidate A', 'Candidate B'], size=30)"
   ]
  },
  {
   "cell_type": "code",
   "execution_count": 56,
   "id": "bc9b0ede",
   "metadata": {},
   "outputs": [],
   "source": [
    "import numpy as np\n",
    "\n",
    "np.random.seed(0)\n",
    "\n",
    "# Generating age groups and voter preferences\n",
    "age_groups = np.random.choice(['18-30', '31-50', '51+', '51+'], size=500)\n",
    "voter_preferences = np.random.choice(['Candidate A', 'Candidate B'], size=500)\n"
   ]
  },
  {
   "cell_type": "code",
   "execution_count": 57,
   "id": "93770b40",
   "metadata": {},
   "outputs": [
    {
     "name": "stdout",
     "output_type": "stream",
     "text": [
      "Contingency Table:\n",
      " Voter Preference  Candidate A  Candidate B\n",
      "Age Group                                 \n",
      "18-30                      68           59\n",
      "31-50                      59           63\n",
      "51+                       131          120\n"
     ]
    }
   ],
   "source": [
    "import pandas as pd\n",
    "\n",
    "# Create a DataFrame from the generated data\n",
    "data = pd.DataFrame({\n",
    "    'Age Group': age_groups,\n",
    "    'Voter Preference': voter_preferences\n",
    "})\n",
    "\n",
    "# Create a contingency table\n",
    "contingency_table = pd.crosstab(data['Age Group'], data['Voter Preference'])\n",
    "print(\"Contingency Table:\\n\", contingency_table)\n"
   ]
  },
  {
   "cell_type": "code",
   "execution_count": 58,
   "id": "eefb635b",
   "metadata": {},
   "outputs": [
    {
     "name": "stdout",
     "output_type": "stream",
     "text": [
      "Chi-Square Statistic: 0.7398\n",
      "P-value: 0.6908\n",
      "Degrees of Freedom: 2\n",
      "Expected Frequencies Table:\n",
      " [[ 65.532  61.468]\n",
      " [ 62.952  59.048]\n",
      " [129.516 121.484]]\n",
      "Fail to reject the null hypothesis: There is no significant association between age groups and voter preferences.\n"
     ]
    }
   ],
   "source": [
    "from scipy.stats import chi2_contingency\n",
    "\n",
    "# Perform the Chi-Square test\n",
    "chi2_stat, p_value, dof, expected = chi2_contingency(contingency_table)\n",
    "\n",
    "print(f\"Chi-Square Statistic: {chi2_stat:.4f}\")\n",
    "print(f\"P-value: {p_value:.4f}\")\n",
    "print(f\"Degrees of Freedom: {dof}\")\n",
    "print(\"Expected Frequencies Table:\\n\", expected)\n",
    "\n",
    "# Interpretation\n",
    "if p_value < 0.05:\n",
    "    print(\"Reject the null hypothesis: There is a significant association between age groups and voter preferences.\")\n",
    "else:\n",
    "    print(\"Fail to reject the null hypothesis: There is no significant association between age groups and voter preferences.\")\n"
   ]
  },
  {
   "cell_type": "markdown",
   "id": "e4b8a56d",
   "metadata": {},
   "source": [
    "# 22. A company conducted a customer satisfaction survey to determine if there is a significant relationship between product satisfaction levels (Satisfied, Neutral, Dissatisfied) and the region where customers are located (East, West, North, South). The survey data is summarized in a contingency table. Conduct a Chi-Square test to determine if there is a significant relationship between product satisfaction levels and customer regions.\n",
    "\n",
    "\n",
    "Sample data:\n",
    "\n",
    "python\n",
    "\n",
    "#Sample data: Product satisfaction levels (rows) vs. Customer regions (columns)\n",
    "\n",
    "data = np.array([[50, 30, 40, 20], [30, 40, 30, 50], [20, 30, 40, 30]])"
   ]
  },
  {
   "cell_type": "code",
   "execution_count": 61,
   "id": "2b9e4ac7",
   "metadata": {},
   "outputs": [
    {
     "name": "stdout",
     "output_type": "stream",
     "text": [
      "Contingency Table:\n",
      "               East  West  North  South\n",
      "Satisfied       50    30     40     20\n",
      "Neutral         30    40     30     50\n",
      "Dissatisfied    20    30     40     30\n",
      "Chi-Square Statistic: 27.7771\n",
      "P-value: 0.0001\n",
      "Degrees of Freedom: 6\n",
      "Expected Frequencies Table:\n",
      "                    East       West      North      South\n",
      "Satisfied     34.146341  34.146341  37.560976  34.146341\n",
      "Neutral       36.585366  36.585366  40.243902  36.585366\n",
      "Dissatisfied  29.268293  29.268293  32.195122  29.268293\n",
      "Reject the null hypothesis: There is a significant relationship between product satisfaction levels and customer regions.\n"
     ]
    }
   ],
   "source": [
    "import numpy as np\n",
    "import pandas as pd\n",
    "from scipy.stats import chi2_contingency\n",
    "\n",
    "# Sample data: Product satisfaction levels (rows) vs. Customer regions (columns)\n",
    "data = np.array([[50, 30, 40, 20], \n",
    "                 [30, 40, 30, 50], \n",
    "                 [20, 30, 40, 30]])\n",
    "\n",
    "# Create a DataFrame for better readability\n",
    "contingency_table = pd.DataFrame(data, \n",
    "                                 index=['Satisfied', 'Neutral', 'Dissatisfied'], \n",
    "                                 columns=['East', 'West', 'North', 'South'])\n",
    "print(\"Contingency Table:\\n\", contingency_table)\n",
    "\n",
    "# Perform the Chi-Square test\n",
    "chi2_stat, p_value, dof, expected = chi2_contingency(contingency_table)\n",
    "\n",
    "print(f\"Chi-Square Statistic: {chi2_stat:.4f}\")\n",
    "print(f\"P-value: {p_value:.4f}\")\n",
    "print(f\"Degrees of Freedom: {dof}\")\n",
    "print(\"Expected Frequencies Table:\\n\", pd.DataFrame(expected, \n",
    "                                                     index=['Satisfied', 'Neutral', 'Dissatisfied'], \n",
    "                                                     columns=['East', 'West', 'North', 'South']))\n",
    "\n",
    "# Interpretation\n",
    "if p_value < 0.05:\n",
    "    print(\"Reject the null hypothesis: There is a significant relationship between product satisfaction levels and customer regions.\")\n",
    "else:\n",
    "    print(\"Fail to reject the null hypothesis: There is no significant relationship between product satisfaction levels and customer regions.\")\n"
   ]
  },
  {
   "cell_type": "markdown",
   "id": "f7acc1fd",
   "metadata": {},
   "source": [
    "# 23. A company implemented an employee training program to improve job performance (Effective, Neutral, Ineffective). After the training, they collected data from a sample of employees and classified them based on their job performance before and after the training. Perform a Chi-Square test to determine if there is a significant difference between job performance levels before and after the training.\n",
    "\n",
    "\n",
    "Sample data:\n",
    "\n",
    "python\n",
    "\n",
    "\n",
    "Sample data: Job performance levels before (rows) and after (columns) training\n",
    "\n",
    "data = np.array([[50, 30, 20], [30, 40, 30], [20, 30, 40]])"
   ]
  },
  {
   "cell_type": "code",
   "execution_count": 62,
   "id": "ef2d0bbd",
   "metadata": {},
   "outputs": [
    {
     "name": "stdout",
     "output_type": "stream",
     "text": [
      "Contingency Table:\n",
      "                     Effective After  Neutral After  Ineffective After\n",
      "Effective Before                 50             30                 20\n",
      "Neutral Before                   30             40                 30\n",
      "Ineffective Before               20             30                 40\n",
      "Chi-Square Statistic: 22.1617\n",
      "P-value: 0.0002\n",
      "Degrees of Freedom: 4\n",
      "Expected Frequencies Table:\n",
      "                     Effective After  Neutral After  Ineffective After\n",
      "Effective Before          34.482759      34.482759          31.034483\n",
      "Neutral Before            34.482759      34.482759          31.034483\n",
      "Ineffective Before        31.034483      31.034483          27.931034\n",
      "Reject the null hypothesis: There is a significant difference in job performance levels before and after training.\n"
     ]
    }
   ],
   "source": [
    "import numpy as np\n",
    "import pandas as pd\n",
    "from scipy.stats import chi2_contingency\n",
    "\n",
    "# Sample data: Job performance levels before (rows) and after (columns) training\n",
    "data = np.array([[50, 30, 20],  # Before training: Effective, Neutral, Ineffective\n",
    "                 [30, 40, 30],  # After training: Effective, Neutral, Ineffective\n",
    "                 [20, 30, 40]])\n",
    "\n",
    "# Create a DataFrame for better readability\n",
    "contingency_table = pd.DataFrame(data, \n",
    "                                 index=['Effective Before', 'Neutral Before', 'Ineffective Before'], \n",
    "                                 columns=['Effective After', 'Neutral After', 'Ineffective After'])\n",
    "print(\"Contingency Table:\\n\", contingency_table)\n",
    "\n",
    "# Perform the Chi-Square test\n",
    "chi2_stat, p_value, dof, expected = chi2_contingency(contingency_table)\n",
    "\n",
    "print(f\"Chi-Square Statistic: {chi2_stat:.4f}\")\n",
    "print(f\"P-value: {p_value:.4f}\")\n",
    "print(f\"Degrees of Freedom: {dof}\")\n",
    "print(\"Expected Frequencies Table:\\n\", pd.DataFrame(expected, \n",
    "                                                     index=['Effective Before', 'Neutral Before', 'Ineffective Before'], \n",
    "                                                     columns=['Effective After', 'Neutral After', 'Ineffective After']))\n",
    "\n",
    "# Interpretation\n",
    "if p_value < 0.05:\n",
    "    print(\"Reject the null hypothesis: There is a significant difference in job performance levels before and after training.\")\n",
    "else:\n",
    "    print(\"Fail to reject the null hypothesis: There is no significant difference in job performance levels before and after training.\")\n"
   ]
  },
  {
   "cell_type": "markdown",
   "id": "52d58670",
   "metadata": {},
   "source": [
    "# 24. A company produces three different versions of a product: Standard, Premium, and Deluxe. The company wants to determine if there is a significant difference in customer satisfaction scores among the three product versions. They conducted a survey and collected customer satisfaction scores for each version from a random sample of customers. Perform an ANOVA test to determine if there is a significant difference in customer satisfaction scores.\n",
    "\n",
    "\n",
    "  Use the following data:\n",
    "\n",
    "  \n",
    "python\n",
    "\n",
    "  Sample data: Customer satisfaction scores for each product version\n",
    "\n",
    "  standard_scores = [80, 85, 90, 78, 88, 82, 92, 78, 85, 87]\n",
    "\n",
    "  premium_scores = [90, 92, 88, 92, 95, 91, 96, 93, 89, 93]\n",
    "\n",
    "  deluxe_scores = [95, 98, 92, 97, 96, 94, 98, 97, 92, 99]"
   ]
  },
  {
   "cell_type": "code",
   "execution_count": 63,
   "id": "ecaed617",
   "metadata": {},
   "outputs": [
    {
     "name": "stdout",
     "output_type": "stream",
     "text": [
      "F-Statistic: 27.0356\n",
      "P-Value: 0.0000\n",
      "Reject the null hypothesis: There is a significant difference in customer satisfaction scores among the product versions.\n"
     ]
    }
   ],
   "source": [
    "import numpy as np\n",
    "from scipy.stats import f_oneway\n",
    "\n",
    "# Sample data: Customer satisfaction scores for each product version\n",
    "standard_scores = [80, 85, 90, 78, 88, 82, 92, 78, 85, 87]\n",
    "premium_scores = [90, 92, 88, 92, 95, 91, 96, 93, 89, 93]\n",
    "deluxe_scores = [95, 98, 92, 97, 96, 94, 98, 97, 92, 99]\n",
    "\n",
    "# Perform the ANOVA test\n",
    "f_statistic, p_value = f_oneway(standard_scores, premium_scores, deluxe_scores)\n",
    "\n",
    "print(f\"F-Statistic: {f_statistic:.4f}\")\n",
    "print(f\"P-Value: {p_value:.4f}\")\n",
    "\n",
    "# Interpretation\n",
    "if p_value < 0.05:\n",
    "    print(\"Reject the null hypothesis: There is a significant difference in customer satisfaction scores among the product versions.\")\n",
    "else:\n",
    "    print(\"Fail to reject the null hypothesis: There is no significant difference in customer satisfaction scores among the product versions.\")\n"
   ]
  },
  {
   "cell_type": "code",
   "execution_count": null,
   "id": "8d975790",
   "metadata": {},
   "outputs": [],
   "source": []
  }
 ],
 "metadata": {
  "kernelspec": {
   "display_name": "Python 3 (ipykernel)",
   "language": "python",
   "name": "python3"
  },
  "language_info": {
   "codemirror_mode": {
    "name": "ipython",
    "version": 3
   },
   "file_extension": ".py",
   "mimetype": "text/x-python",
   "name": "python",
   "nbconvert_exporter": "python",
   "pygments_lexer": "ipython3",
   "version": "3.11.5"
  }
 },
 "nbformat": 4,
 "nbformat_minor": 5
}
